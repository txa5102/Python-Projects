{
 "cells": [
  {
   "cell_type": "markdown",
   "id": "9249eecd",
   "metadata": {},
   "source": [
    "<a class=\"anchor\" id=\"top\"></a>\n",
    "# Contents\n",
    "*Start from the beginning, or click to jump to a particular section*\n",
    "\n",
    "1. [Introduction](#intro)\n",
    "2. [Importing Datasets and Libraries](#imports)\n",
    "3. [Data Exploration and Cleaning](#cleaning) <br>\n",
    "4. [Analysis](#analysis) <br>\n",
    "    4.1 [General Medal Counts](#medals) <br>\n",
    "    4.2 [USA Performance](#countries) <br>\n",
    "    4.3 [Athlete Specific Medals](#athlete_medals) <br>\n",
    "    4.4 [Athlete Demographics](#athletes)\n"
   ]
  },
  {
   "cell_type": "markdown",
   "id": "6023fdb7",
   "metadata": {},
   "source": [
    "<a class=\"anchor\" id=\"intro\"></a>\n",
    "## 1. Introduction"
   ]
  },
  {
   "cell_type": "markdown",
   "id": "d32d1264",
   "metadata": {},
   "source": [
    "Welcome!\n",
    "\n",
    "This notebook is an exploration of Olympic events/athletes from the past 100+ years. It is going to be using predominatly the pandas Python library for manipulating the datasets and the matplotlib Python library for creating some visualizations. It's entirely for fun, and a way for me to play around/practice some Python skills on a larger dataset.\n",
    "\n",
    "As for the dataset, it is sources from the \"120 Years of Olympic History: Athletes and Results\" dataset from RGriffin linked [here](https://www.kaggle.com/datasets/heesoo37/120-years-of-olympic-history-athletes-and-results). It consits of historical data from each Olympic Games from Athens 1896 to Rio 2016, scraped by RGriffin from www.sports-reference.com. .\n",
    "\n",
    "There are two datasets that I'm  working with here: \n",
    "\n",
    "1. The *athlete_events.csv* file has 134732 rows and 15 columns, which are as follows:\n",
    "* **ID** - Unique number for each athlete\n",
    "* **Name** - Athlete's name\n",
    "* **Sex** - M or F\n",
    "* **Age** - Integer\n",
    "* **Height** - In centimeters\n",
    "* **Weight** - In kilograms\n",
    "* **Team** - Team name. NOTE: Not the same as Country\n",
    "* **NOC** - National Olympic Committee 3-letter code\n",
    "* **Games** - Year and season\n",
    "* **Year** - Integer\n",
    "* **Season**- Summer or Winter\n",
    "* **City** - Host city\n",
    "* **Sport** - Sport\n",
    "* **Event** - Event\n",
    "* **Medal** - Gold, Silver, Bronze, or NA\n",
    "\n",
    "2. The *NOC_regions.csv* file has the Country name corresponding to the three letter National Olympic Committee (NOC) Code:\n",
    "* **NOC** - 3-letter National Olympic Committee code\n",
    "* **Country** - Name of country\n",
    "* **Notes** - Some helpful notes"
   ]
  },
  {
   "cell_type": "markdown",
   "id": "96f35d8c",
   "metadata": {},
   "source": [
    "[Go to Top](#top)\n",
    "<a class=\"anchor\" id=\"imports\"></a>\n",
    "## 2. Importing Datsets and Libraries"
   ]
  },
  {
   "cell_type": "code",
   "execution_count": 1,
   "id": "115c7020",
   "metadata": {},
   "outputs": [],
   "source": [
    "import pandas as pd\n",
    "import matplotlib.pyplot as plt\n",
    "from matplotlib.gridspec import GridSpec\n",
    "import numpy as np\n",
    "import datetime as dt"
   ]
  },
  {
   "cell_type": "markdown",
   "id": "82f0fb91",
   "metadata": {},
   "source": [
    "Import the **events** dataset, which is a list of olympic events from both Summer and Winter Olympics from Athens 1896 to Rio 2016.\n",
    "\n",
    "Importing the **countries** dataset, which is a list of the 'NOC' designation and the full country name. We'll join this to the main events dataset."
   ]
  },
  {
   "cell_type": "code",
   "execution_count": 2,
   "id": "76d02e36",
   "metadata": {},
   "outputs": [],
   "source": [
    "events = pd.read_csv('athlete_events.csv')\n",
    "countries = pd.read_csv('noc_regions.csv')"
   ]
  },
  {
   "cell_type": "markdown",
   "id": "84eb5f3f",
   "metadata": {},
   "source": [
    "<a class=\"anchor\" id=\"joining\"></a>\n",
    "### Joining Countries to the Events Dataset\n",
    "\n",
    "For easier readability, I don't want to use the NOC code, and instead want to join the **events** and **countries** datsets together using a left join so I can use the Country name for the rest of the analysis.\n",
    "\n",
    "The merged result will be **df**, which will be the basis of all the future charts/tables in this notebook. Here is a preview:"
   ]
  },
  {
   "cell_type": "code",
   "execution_count": 3,
   "id": "6bf607a8",
   "metadata": {},
   "outputs": [
    {
     "data": {
      "text/html": [
       "<div>\n",
       "<style scoped>\n",
       "    .dataframe tbody tr th:only-of-type {\n",
       "        vertical-align: middle;\n",
       "    }\n",
       "\n",
       "    .dataframe tbody tr th {\n",
       "        vertical-align: top;\n",
       "    }\n",
       "\n",
       "    .dataframe thead th {\n",
       "        text-align: right;\n",
       "    }\n",
       "</style>\n",
       "<table border=\"1\" class=\"dataframe\">\n",
       "  <thead>\n",
       "    <tr style=\"text-align: right;\">\n",
       "      <th></th>\n",
       "      <th>ID</th>\n",
       "      <th>Athlete Name</th>\n",
       "      <th>Sex</th>\n",
       "      <th>Age</th>\n",
       "      <th>Height</th>\n",
       "      <th>Weight</th>\n",
       "      <th>Team</th>\n",
       "      <th>NOC</th>\n",
       "      <th>Games</th>\n",
       "      <th>Year</th>\n",
       "      <th>Season</th>\n",
       "      <th>City</th>\n",
       "      <th>Sport</th>\n",
       "      <th>Event</th>\n",
       "      <th>Medal</th>\n",
       "      <th>Country</th>\n",
       "      <th>Notes</th>\n",
       "    </tr>\n",
       "  </thead>\n",
       "  <tbody>\n",
       "    <tr>\n",
       "      <th>0</th>\n",
       "      <td>1</td>\n",
       "      <td>A Dijiang</td>\n",
       "      <td>M</td>\n",
       "      <td>24.0</td>\n",
       "      <td>180.0</td>\n",
       "      <td>80.0</td>\n",
       "      <td>China</td>\n",
       "      <td>CHN</td>\n",
       "      <td>1992 Summer</td>\n",
       "      <td>1992</td>\n",
       "      <td>Summer</td>\n",
       "      <td>Barcelona</td>\n",
       "      <td>Basketball</td>\n",
       "      <td>Basketball Men's Basketball</td>\n",
       "      <td>NaN</td>\n",
       "      <td>China</td>\n",
       "      <td>NaN</td>\n",
       "    </tr>\n",
       "    <tr>\n",
       "      <th>1</th>\n",
       "      <td>2</td>\n",
       "      <td>A Lamusi</td>\n",
       "      <td>M</td>\n",
       "      <td>23.0</td>\n",
       "      <td>170.0</td>\n",
       "      <td>60.0</td>\n",
       "      <td>China</td>\n",
       "      <td>CHN</td>\n",
       "      <td>2012 Summer</td>\n",
       "      <td>2012</td>\n",
       "      <td>Summer</td>\n",
       "      <td>London</td>\n",
       "      <td>Judo</td>\n",
       "      <td>Judo Men's Extra-Lightweight</td>\n",
       "      <td>NaN</td>\n",
       "      <td>China</td>\n",
       "      <td>NaN</td>\n",
       "    </tr>\n",
       "    <tr>\n",
       "      <th>2</th>\n",
       "      <td>3</td>\n",
       "      <td>Gunnar Nielsen Aaby</td>\n",
       "      <td>M</td>\n",
       "      <td>24.0</td>\n",
       "      <td>NaN</td>\n",
       "      <td>NaN</td>\n",
       "      <td>Denmark</td>\n",
       "      <td>DEN</td>\n",
       "      <td>1920 Summer</td>\n",
       "      <td>1920</td>\n",
       "      <td>Summer</td>\n",
       "      <td>Antwerpen</td>\n",
       "      <td>Football</td>\n",
       "      <td>Football Men's Football</td>\n",
       "      <td>NaN</td>\n",
       "      <td>Denmark</td>\n",
       "      <td>NaN</td>\n",
       "    </tr>\n",
       "    <tr>\n",
       "      <th>3</th>\n",
       "      <td>4</td>\n",
       "      <td>Edgar Lindenau Aabye</td>\n",
       "      <td>M</td>\n",
       "      <td>34.0</td>\n",
       "      <td>NaN</td>\n",
       "      <td>NaN</td>\n",
       "      <td>Denmark/Sweden</td>\n",
       "      <td>DEN</td>\n",
       "      <td>1900 Summer</td>\n",
       "      <td>1900</td>\n",
       "      <td>Summer</td>\n",
       "      <td>Paris</td>\n",
       "      <td>Tug-Of-War</td>\n",
       "      <td>Tug-Of-War Men's Tug-Of-War</td>\n",
       "      <td>Gold</td>\n",
       "      <td>Denmark</td>\n",
       "      <td>NaN</td>\n",
       "    </tr>\n",
       "    <tr>\n",
       "      <th>4</th>\n",
       "      <td>5</td>\n",
       "      <td>Christine Jacoba Aaftink</td>\n",
       "      <td>F</td>\n",
       "      <td>21.0</td>\n",
       "      <td>185.0</td>\n",
       "      <td>82.0</td>\n",
       "      <td>Netherlands</td>\n",
       "      <td>NED</td>\n",
       "      <td>1988 Winter</td>\n",
       "      <td>1988</td>\n",
       "      <td>Winter</td>\n",
       "      <td>Calgary</td>\n",
       "      <td>Speed Skating</td>\n",
       "      <td>Speed Skating Women's 500 metres</td>\n",
       "      <td>NaN</td>\n",
       "      <td>Netherlands</td>\n",
       "      <td>NaN</td>\n",
       "    </tr>\n",
       "  </tbody>\n",
       "</table>\n",
       "</div>"
      ],
      "text/plain": [
       "   ID              Athlete Name Sex   Age  Height  Weight            Team  \\\n",
       "0   1                 A Dijiang   M  24.0   180.0    80.0           China   \n",
       "1   2                  A Lamusi   M  23.0   170.0    60.0           China   \n",
       "2   3       Gunnar Nielsen Aaby   M  24.0     NaN     NaN         Denmark   \n",
       "3   4      Edgar Lindenau Aabye   M  34.0     NaN     NaN  Denmark/Sweden   \n",
       "4   5  Christine Jacoba Aaftink   F  21.0   185.0    82.0     Netherlands   \n",
       "\n",
       "   NOC        Games  Year  Season       City          Sport  \\\n",
       "0  CHN  1992 Summer  1992  Summer  Barcelona     Basketball   \n",
       "1  CHN  2012 Summer  2012  Summer     London           Judo   \n",
       "2  DEN  1920 Summer  1920  Summer  Antwerpen       Football   \n",
       "3  DEN  1900 Summer  1900  Summer      Paris     Tug-Of-War   \n",
       "4  NED  1988 Winter  1988  Winter    Calgary  Speed Skating   \n",
       "\n",
       "                              Event Medal      Country Notes  \n",
       "0       Basketball Men's Basketball   NaN        China   NaN  \n",
       "1      Judo Men's Extra-Lightweight   NaN        China   NaN  \n",
       "2           Football Men's Football   NaN      Denmark   NaN  \n",
       "3       Tug-Of-War Men's Tug-Of-War  Gold      Denmark   NaN  \n",
       "4  Speed Skating Women's 500 metres   NaN  Netherlands   NaN  "
      ]
     },
     "execution_count": 3,
     "metadata": {},
     "output_type": "execute_result"
    }
   ],
   "source": [
    "df = events.merge(countries, how = 'left', on = 'NOC')\n",
    "df.rename(columns = {'region': 'Country',\n",
    "                    'Name': 'Athlete Name',\n",
    "                    'notes': 'Notes'}, \n",
    "          inplace = True)\n",
    "df.head()"
   ]
  },
  {
   "cell_type": "markdown",
   "id": "29333dd2",
   "metadata": {},
   "source": [
    "[Go to Top](#top)\n",
    "<a class=\"anchor\" id=\"cleaning\"></a>\n",
    "## 2. Data Exploration and Cleaning"
   ]
  },
  {
   "cell_type": "markdown",
   "id": "c668918a",
   "metadata": {},
   "source": [
    "In this section, I want to get to know the datset a little better. I want to find if there are any anomolies that would impact my analysis moving forward, as well as restructuring the data to fit my needs little better.\n",
    "\n",
    "At the top, I want to take a look at each column to see if there are any efficiency changes I can do at the top to make the analysis a little faster. I'll do this either by dropping unwanted columns or changing the datatypes to something less memory-intensive. I also want to check for null values. \n",
    "\n",
    "The *.info()* method is a powehouse for the cleaning portion, as it gives me the dateset size, columns, null counts, datatypes, and total memory usage for the **df** dataframe."
   ]
  },
  {
   "cell_type": "code",
   "execution_count": 4,
   "id": "1e3c5ca2",
   "metadata": {},
   "outputs": [
    {
     "name": "stdout",
     "output_type": "stream",
     "text": [
      "<class 'pandas.core.frame.DataFrame'>\n",
      "Int64Index: 271116 entries, 0 to 271115\n",
      "Data columns (total 17 columns):\n",
      " #   Column        Non-Null Count   Dtype  \n",
      "---  ------        --------------   -----  \n",
      " 0   ID            271116 non-null  int64  \n",
      " 1   Athlete Name  271116 non-null  object \n",
      " 2   Sex           271116 non-null  object \n",
      " 3   Age           261642 non-null  float64\n",
      " 4   Height        210945 non-null  float64\n",
      " 5   Weight        208241 non-null  float64\n",
      " 6   Team          271116 non-null  object \n",
      " 7   NOC           271116 non-null  object \n",
      " 8   Games         271116 non-null  object \n",
      " 9   Year          271116 non-null  int64  \n",
      " 10  Season        271116 non-null  object \n",
      " 11  City          271116 non-null  object \n",
      " 12  Sport         271116 non-null  object \n",
      " 13  Event         271116 non-null  object \n",
      " 14  Medal         39783 non-null   object \n",
      " 15  Country       270746 non-null  object \n",
      " 16  Notes         5039 non-null    object \n",
      "dtypes: float64(3), int64(2), object(12)\n",
      "memory usage: 37.2+ MB\n"
     ]
    }
   ],
   "source": [
    "df.info()"
   ]
  },
  {
   "cell_type": "markdown",
   "id": "45dae77f",
   "metadata": {},
   "source": [
    "### Column Alterations"
   ]
  },
  {
   "cell_type": "markdown",
   "id": "9116e275",
   "metadata": {},
   "source": [
    "Firstly, I won't be using the ID or Notes columns so I'll drop those.\n",
    "\n",
    "Next, any athlete who did not win a medal has a null value in the 'Medal' column. I change there to the word 'None' to make medla counts a little simpler and to let me change the 'Medal' column to a category (can't have null values).\n",
    "\n",
    "Lastly, I changed any columns with a relatively small number of possibilities to categories (i.e. Sex, Season, Games, Sport, City, and Medal). This will make all the grouping and pivotingl ater on run faster."
   ]
  },
  {
   "cell_type": "code",
   "execution_count": 5,
   "id": "f7f4b5ae",
   "metadata": {},
   "outputs": [],
   "source": [
    "# Drop ID and Notes columns\n",
    "df.drop('ID', axis = 'columns', inplace = True)\n",
    "df.drop('Notes', axis = 'columns', inplace = True)\n",
    "\n",
    "# Replacing any N/A in 'Medals' with 'None'\n",
    "df['Medal'].fillna('None', inplace = True) \n",
    "\n",
    "# Change 6 columns to category\n",
    "df['Sex'] = df['Sex'].astype('category')\n",
    "df['Season'] = df['Season'].astype('category')\n",
    "df['Games'] = df['Games'].astype('category')\n",
    "df['Sport'] = df['Sport'].astype('category')\n",
    "df['City'] = df['City'].astype('category')\n",
    "df['Medal'] = df['Medal'].astype('category')"
   ]
  },
  {
   "cell_type": "markdown",
   "id": "3c7e1259",
   "metadata": {},
   "source": [
    "### Null values"
   ]
  },
  {
   "cell_type": "markdown",
   "id": "72221fee",
   "metadata": {},
   "source": [
    "From the initial *info()* summary table (before column alterations), there were 6 columns that had less than 271116 non-null values. Up to this point, I've already addressed 2 of them:\n",
    "\n",
    "* *Medal*: replaced nulls with 'None'\n",
    "* *Notes*: dropped the column entirely\n",
    "* *Country*\n",
    "* *Age*\n",
    "* *Height*\n",
    "* *Weight*\n",
    "\n",
    "Next, I'll look at 'Country'"
   ]
  },
  {
   "cell_type": "markdown",
   "id": "ceec50e9",
   "metadata": {},
   "source": [
    "One of the first things I noticed when peviewing the datset is that the 'Team' column and the 'Country' column look fairly similar. However, if I look at the number of unique values for each column (and I would expect that to be reasonably close to the number of countries in the world), I find that 'Team' actually has 1184 unique values while 'Country' has 205. Red flag!"
   ]
  },
  {
   "cell_type": "code",
   "execution_count": 6,
   "id": "8637da14",
   "metadata": {},
   "outputs": [
    {
     "data": {
      "text/plain": [
       "1184"
      ]
     },
     "execution_count": 6,
     "metadata": {},
     "output_type": "execute_result"
    }
   ],
   "source": [
    "# Unique Team values\n",
    "df['Team'].nunique()"
   ]
  },
  {
   "cell_type": "code",
   "execution_count": 7,
   "id": "ddb906f3",
   "metadata": {},
   "outputs": [
    {
     "data": {
      "text/plain": [
       "205"
      ]
     },
     "execution_count": 7,
     "metadata": {},
     "output_type": "execute_result"
    }
   ],
   "source": [
    "# Unique Country values\n",
    "df['Country'].nunique()"
   ]
  },
  {
   "cell_type": "markdown",
   "id": "15246ac9",
   "metadata": {},
   "source": [
    "In fact, when looking for any Team name that contains the phrase 'United States', there are actually 22 unique results spanning 5 different 'Country' codes. So for any of our country-analysis, we will use 'Country' instead of Team. (Although I don't want to drop 'Team' entirely because it might be interesting on a smaller scale)"
   ]
  },
  {
   "cell_type": "code",
   "execution_count": 8,
   "id": "bda27840",
   "metadata": {},
   "outputs": [
    {
     "data": {
      "text/plain": [
       "array(['United States', 'United States Virgin Islands', 'United States-1',\n",
       "       'United States-2', 'United States-3', 'United States-10',\n",
       "       'United States Virgin Islands-2', 'United States Virgin Islands-1',\n",
       "       'United States Golf Association-3', 'United States-9',\n",
       "       'United States-6', 'United States-7', 'United States/France',\n",
       "       'United States/Great Britain', 'United States-14',\n",
       "       'United States-4', 'Germany/United States', 'United States-5',\n",
       "       'United States-8', 'United States-12', 'United States-11',\n",
       "       'United States-13'], dtype=object)"
      ]
     },
     "execution_count": 8,
     "metadata": {},
     "output_type": "execute_result"
    }
   ],
   "source": [
    "# All the different ways 'United States' shows up in the 'Team' column\n",
    "df[df['Team'].str.contains('United States')]['Team'].unique()"
   ]
  },
  {
   "cell_type": "markdown",
   "id": "2f429e92",
   "metadata": {},
   "source": [
    "Before I can use the 'Country' column efficiently, I have to address the 370 null values. I find that the 370 null values are split between only 4 NOC codes: SGP, ROT, TUV, and UNK."
   ]
  },
  {
   "cell_type": "code",
   "execution_count": 9,
   "id": "a29b05e2",
   "metadata": {
    "scrolled": false
   },
   "outputs": [
    {
     "data": {
      "text/plain": [
       "SGP    349\n",
       "ROT     12\n",
       "TUV      7\n",
       "UNK      2\n",
       "Name: NOC, dtype: int64"
      ]
     },
     "execution_count": 9,
     "metadata": {},
     "output_type": "execute_result"
    }
   ],
   "source": [
    "df[df['Country'].isnull()]['NOC'].value_counts()"
   ]
  },
  {
   "cell_type": "markdown",
   "id": "189a4d69",
   "metadata": {},
   "source": [
    "A quick internet search and I know that they are:\n",
    "* SGP: Singapore\n",
    "* ROT: Refugee Olympic Team\n",
    "* TUV: Tuvalu\n",
    "* UNK: Unknown\n",
    "\n",
    "I replaced the first three country names in **df** and deleted the athletes from an Unknown Country"
   ]
  },
  {
   "cell_type": "code",
   "execution_count": 10,
   "id": "7ce7b6aa",
   "metadata": {},
   "outputs": [],
   "source": [
    "singapore = df['NOC'] == 'SGP'\n",
    "df.loc[singapore, 'Country'] = 'Singapore'\n",
    "\n",
    "refugee = df['NOC'] == 'ROT'\n",
    "df.loc[refugee, 'Country'] = 'Refugee Olympic Team'\n",
    "\n",
    "tuvalu = df['NOC'] == 'TUV'\n",
    "df.loc[tuvalu, 'Country'] = 'Tuvalu'\n",
    "\n",
    "# Drop Unknown athlete rows\n",
    "df[df['NOC'] == 'UNK']\n",
    "df.drop([61080, 130721], inplace = True)"
   ]
  },
  {
   "cell_type": "markdown",
   "id": "f2089b93",
   "metadata": {},
   "source": [
    "The last 3 columns with null values are Height, Weight, and Age. This isn't that suprising given that a lot of these entries are from over 100 years ago, and there just may not be height/weight measurements for all 200,000+ event records.\n",
    "\n",
    "I am alright with leaving these null values as is because I don't want to delete the rows and alter any other analytic metrics (e.g. athlete particpation, medal counts, etc). I also don't want to replace them with average value since there is likely ot be a lot of variation in these demographic values depending on the athlete's sport (more on this later!) and replacing these null values would dilute that uniqueness. The 200,000+ values that I do have here should be enough to pull some interesting insights from!"
   ]
  },
  {
   "cell_type": "markdown",
   "id": "3b2e8b03",
   "metadata": {},
   "source": [
    "Looking at the end result, I've cut the memory usage down by ~35% and have no unexpected null values that could create any unwanted bugs. "
   ]
  },
  {
   "cell_type": "code",
   "execution_count": 11,
   "id": "4f68e80c",
   "metadata": {},
   "outputs": [
    {
     "name": "stdout",
     "output_type": "stream",
     "text": [
      "<class 'pandas.core.frame.DataFrame'>\n",
      "Int64Index: 271114 entries, 0 to 271115\n",
      "Data columns (total 15 columns):\n",
      " #   Column        Non-Null Count   Dtype   \n",
      "---  ------        --------------   -----   \n",
      " 0   Athlete Name  271114 non-null  object  \n",
      " 1   Sex           271114 non-null  category\n",
      " 2   Age           261642 non-null  float64 \n",
      " 3   Height        210945 non-null  float64 \n",
      " 4   Weight        208241 non-null  float64 \n",
      " 5   Team          271114 non-null  object  \n",
      " 6   NOC           271114 non-null  object  \n",
      " 7   Games         271114 non-null  category\n",
      " 8   Year          271114 non-null  int64   \n",
      " 9   Season        271114 non-null  category\n",
      " 10  City          271114 non-null  category\n",
      " 11  Sport         271114 non-null  category\n",
      " 12  Event         271114 non-null  object  \n",
      " 13  Medal         271114 non-null  category\n",
      " 14  Country       271114 non-null  object  \n",
      "dtypes: category(6), float64(3), int64(1), object(5)\n",
      "memory usage: 22.2+ MB\n"
     ]
    }
   ],
   "source": [
    "df.info()"
   ]
  },
  {
   "cell_type": "markdown",
   "id": "6c6fcadf",
   "metadata": {},
   "source": [
    "### Exploring Duplicates\n",
    "\n",
    "Something important to note about this data set is that it is a record of **individual athlete events**. Since each row still has a 'Medal' result, this results in a lot of duplicate medal counts when it comes to any sort of team sport where multiple athletes win the same medal in the same games. If I was trying to create a medal count table like the ones you'd see on TV or on Wikipedia, I would need to look at duplicate entries where the Games, Medal, And Event all matched and work around those (not necessarily drop since that would alter other metrics). \n",
    "\n",
    "Just doing a quick filter, I found that there are approximaely 26,000 rows that meet this criteria. Since this analysis is for fun/for free, I'm not going to dig into those here, therefore some numbers will differ from the official olympic statistics. Pleae use official Olympic sources if you need accuracy!"
   ]
  },
  {
   "cell_type": "code",
   "execution_count": 12,
   "id": "925a7009",
   "metadata": {},
   "outputs": [
    {
     "data": {
      "text/plain": [
       "26704"
      ]
     },
     "execution_count": 12,
     "metadata": {},
     "output_type": "execute_result"
    }
   ],
   "source": [
    "medalists = df[df['Medal'] != 'None'].sort_values(['Games','Country', 'Event'])\n",
    "len(medalists[medalists.duplicated(['Games', 'Event', 'Medal'], keep = False)])"
   ]
  },
  {
   "cell_type": "markdown",
   "id": "f4d22a18",
   "metadata": {},
   "source": [
    "[Go to Top](#top)\n",
    "<a class=\"anchor\" id=\"analysis\"></a>\n",
    "# 3. Analysis"
   ]
  },
  {
   "cell_type": "markdown",
   "id": "917f0f6f",
   "metadata": {},
   "source": [
    "On a technical level, my goal for this notebook is to play around with categorizing and grouping in pandas and translating that to a visual medium using matplotlib. I eventually want to use these plots as a framework to make a Tableau Dashboard where I can really finetune the visuals and make them interactive.\n",
    "\n",
    "On an analytical level, I can break down this section into 4 main subsections:\n",
    "* [General Games Stats](#medals)\n",
    "* [United States Performance](#countries)\n",
    "* [Athlete Specific Medals](#athlete_medals)\n",
    "* [Athlete Demographics](#athletes)\n"
   ]
  },
  {
   "cell_type": "markdown",
   "id": "cee7e87a",
   "metadata": {},
   "source": [
    "[Go to Top](#top)\n",
    "<a class=\"anchor\" id=\"medals\"></a>\n",
    "## General Games Stats"
   ]
  },
  {
   "cell_type": "markdown",
   "id": "a6a422bf",
   "metadata": {},
   "source": [
    "Quick reminder of what the **df** dataframe looks like."
   ]
  },
  {
   "cell_type": "code",
   "execution_count": 23,
   "id": "d526ee25",
   "metadata": {
    "scrolled": true
   },
   "outputs": [
    {
     "data": {
      "text/html": [
       "<div>\n",
       "<style scoped>\n",
       "    .dataframe tbody tr th:only-of-type {\n",
       "        vertical-align: middle;\n",
       "    }\n",
       "\n",
       "    .dataframe tbody tr th {\n",
       "        vertical-align: top;\n",
       "    }\n",
       "\n",
       "    .dataframe thead th {\n",
       "        text-align: right;\n",
       "    }\n",
       "</style>\n",
       "<table border=\"1\" class=\"dataframe\">\n",
       "  <thead>\n",
       "    <tr style=\"text-align: right;\">\n",
       "      <th></th>\n",
       "      <th>Athlete Name</th>\n",
       "      <th>Sex</th>\n",
       "      <th>Age</th>\n",
       "      <th>Height</th>\n",
       "      <th>Weight</th>\n",
       "      <th>Team</th>\n",
       "      <th>NOC</th>\n",
       "      <th>Games</th>\n",
       "      <th>Year</th>\n",
       "      <th>Season</th>\n",
       "      <th>City</th>\n",
       "      <th>Sport</th>\n",
       "      <th>Event</th>\n",
       "      <th>Medal</th>\n",
       "      <th>Country</th>\n",
       "    </tr>\n",
       "  </thead>\n",
       "  <tbody>\n",
       "    <tr>\n",
       "      <th>0</th>\n",
       "      <td>A Dijiang</td>\n",
       "      <td>M</td>\n",
       "      <td>24.0</td>\n",
       "      <td>180.0</td>\n",
       "      <td>80.0</td>\n",
       "      <td>China</td>\n",
       "      <td>CHN</td>\n",
       "      <td>1992 Summer</td>\n",
       "      <td>1992</td>\n",
       "      <td>Summer</td>\n",
       "      <td>Barcelona</td>\n",
       "      <td>Basketball</td>\n",
       "      <td>Basketball Men's Basketball</td>\n",
       "      <td>None</td>\n",
       "      <td>China</td>\n",
       "    </tr>\n",
       "    <tr>\n",
       "      <th>1</th>\n",
       "      <td>A Lamusi</td>\n",
       "      <td>M</td>\n",
       "      <td>23.0</td>\n",
       "      <td>170.0</td>\n",
       "      <td>60.0</td>\n",
       "      <td>China</td>\n",
       "      <td>CHN</td>\n",
       "      <td>2012 Summer</td>\n",
       "      <td>2012</td>\n",
       "      <td>Summer</td>\n",
       "      <td>London</td>\n",
       "      <td>Judo</td>\n",
       "      <td>Judo Men's Extra-Lightweight</td>\n",
       "      <td>None</td>\n",
       "      <td>China</td>\n",
       "    </tr>\n",
       "    <tr>\n",
       "      <th>2</th>\n",
       "      <td>Gunnar Nielsen Aaby</td>\n",
       "      <td>M</td>\n",
       "      <td>24.0</td>\n",
       "      <td>NaN</td>\n",
       "      <td>NaN</td>\n",
       "      <td>Denmark</td>\n",
       "      <td>DEN</td>\n",
       "      <td>1920 Summer</td>\n",
       "      <td>1920</td>\n",
       "      <td>Summer</td>\n",
       "      <td>Antwerpen</td>\n",
       "      <td>Football</td>\n",
       "      <td>Football Men's Football</td>\n",
       "      <td>None</td>\n",
       "      <td>Denmark</td>\n",
       "    </tr>\n",
       "  </tbody>\n",
       "</table>\n",
       "</div>"
      ],
      "text/plain": [
       "          Athlete Name Sex   Age  Height  Weight     Team  NOC        Games  \\\n",
       "0            A Dijiang   M  24.0   180.0    80.0    China  CHN  1992 Summer   \n",
       "1             A Lamusi   M  23.0   170.0    60.0    China  CHN  2012 Summer   \n",
       "2  Gunnar Nielsen Aaby   M  24.0     NaN     NaN  Denmark  DEN  1920 Summer   \n",
       "\n",
       "   Year  Season       City       Sport                         Event Medal  \\\n",
       "0  1992  Summer  Barcelona  Basketball   Basketball Men's Basketball  None   \n",
       "1  2012  Summer     London        Judo  Judo Men's Extra-Lightweight  None   \n",
       "2  1920  Summer  Antwerpen    Football       Football Men's Football  None   \n",
       "\n",
       "   Country  \n",
       "0    China  \n",
       "1    China  \n",
       "2  Denmark  "
      ]
     },
     "execution_count": 23,
     "metadata": {},
     "output_type": "execute_result"
    }
   ],
   "source": [
    "df.head(3)"
   ]
  },
  {
   "cell_type": "markdown",
   "id": "146a0452",
   "metadata": {},
   "source": [
    "I always thought of the Olympics as a constant (barring a global pandemic, that is) bi-annual occurence, alternating between Winter and Summer every 2 years. In fact, that tradition didn't start until the 1990's, prior to which, both the games were held concurrently every 4 years. \n",
    "\n",
    "Here we can see this shift in the overall timeline (as well as some conspicous gaps during both World Wars). THere is also a trend in general events increading over time (with 1980 as a noteable exception). \n",
    "\n",
    "It is also very clear that the Summer Games are much bigger and have significantly more events than the Winter Games (this makes sense when you consider the barrier to entry for a lot of winter sports (how many people have a ski-slope down the rode to play around on?), and how globablly ubiquitous the tentpole summer events like track or swimming are."
   ]
  },
  {
   "cell_type": "code",
   "execution_count": 24,
   "id": "91e87c9c",
   "metadata": {},
   "outputs": [],
   "source": [
    "# Counts for events by season\n",
    "summer_games = df[df['Season'] == 'Summer'].sort_values('Year').groupby(by = 'Year', observed = True).size()\n",
    "winter_games = df[df['Season'] == 'Winter'].sort_values('Year').groupby(by = 'Year', observed = True).size()"
   ]
  },
  {
   "cell_type": "code",
   "execution_count": 25,
   "id": "69b0760c",
   "metadata": {
    "scrolled": false
   },
   "outputs": [
    {
     "data": {
      "image/png": "[encoded data removed]",
      "text/plain": [
       "<Figure size 1008x720 with 3 Axes>"
      ]
     },
     "metadata": {
      "needs_background": "light"
     },
     "output_type": "display_data"
    }
   ],
   "source": [
    "plt.figure(figsize = (14, 10))\n",
    "gs = GridSpec(nrows=2, ncols=2)\n",
    "\n",
    "\n",
    "plt.subplot(gs[0, :])           \n",
    "plt.bar(summer_games.index, summer_games, color = 'crimson', label = 'Summer')\n",
    "plt.bar(winter_games.index, winter_games, color = 'royalblue', label = 'Winter')\n",
    "plt.title('History of the Olympics', fontsize = 25)\n",
    "plt.ylabel('Total Events')\n",
    "plt.xlabel('Year')\n",
    "plt.legend()\n",
    "\n",
    "# Summer Events\n",
    "ax = plt.subplot(gs[1,0])\n",
    "summer_games.plot(kind = 'bar', color = 'crimson')\n",
    "plt.title('Summer')\n",
    "plt.ylabel('Total Events')\n",
    "\n",
    "# Winter Events\n",
    "plt.subplot(gs[1,1], sharey = ax)\n",
    "winter_games.plot(kind = 'bar', color = 'royalblue')\n",
    "plt.title('Winter')\n",
    "\n",
    "plt.tight_layout()"
   ]
  },
  {
   "cell_type": "markdown",
   "id": "791e2828",
   "metadata": {},
   "source": [
    "I was also curious if the number of individual athletes had a similar trend to events, since its possible one season has athletes that tend to compete in more events and create a disproportinate number of event records per capita.\n",
    "\n",
    "However, athletes and events appear to correlate almost exactly. There are far more summer athletes than winter, and there are still the big dips in Summer participation in 1932, 1956, and 1980,"
   ]
  },
  {
   "cell_type": "code",
   "execution_count": 26,
   "id": "61da47ad",
   "metadata": {},
   "outputs": [
    {
     "data": {
      "image/png": "[encoded data removed]",
      "text/plain": [
       "<Figure size 1008x360 with 2 Axes>"
      ]
     },
     "metadata": {
      "needs_background": "light"
     },
     "output_type": "display_data"
    }
   ],
   "source": [
    "unique_athletes = df.drop_duplicates(subset = ['Athlete Name', 'Games'])\n",
    "summer_athletes = unique_athletes[unique_athletes['Season'] == 'Summer'].sort_values('Year').groupby(by = 'Year', observed = True).size()\n",
    "winter_athletes = unique_athletes[unique_athletes['Season'] == 'Winter'].sort_values('Year').groupby(by = 'Year', observed = True).size()\n",
    "\n",
    "\n",
    "plt.figure(figsize = (14,5))\n",
    "plt.suptitle('Athletes Competing By Season ', fontsize = 25)\n",
    "\n",
    "# Summer Athletes\n",
    "ax2 = plt.subplot(1,2,1)\n",
    "summer_athletes.plot(kind = 'bar', color = '#e65b77')\n",
    "plt.title('Summer')\n",
    "\n",
    "#Winter Athletes\n",
    "plt.subplot(1,2,2, sharey = ax2)\n",
    "winter_athletes.plot(kind = 'bar', color = '#8da5ed')\n",
    "plt.title('Winter')\n",
    "\n",
    "plt.tight_layout()"
   ]
  },
  {
   "cell_type": "markdown",
   "id": "f7c20f3d",
   "metadata": {},
   "source": [
    "I've already seen how the althletes/events have trended upward in recent years, but I also want to see if the individual sports played each year have smilarly changed. \n",
    "\n",
    "I was actually surprised that even though the Summer games did have a sharp increase from 19 to 34 from 1960 to 2000, the number of sports has remained overall steady since 2000. This trend also follows (though at a smaller scale) in the winter games, with an increase from 10 to 15 from 1988 to 2002, and then leveling out at 15 after 2002."
   ]
  },
  {
   "cell_type": "code",
   "execution_count": 27,
   "id": "8ac504c9",
   "metadata": {},
   "outputs": [
    {
     "data": {
      "image/png": "[encoded data removed]",
      "text/plain": [
       "<Figure size 1008x360 with 1 Axes>"
      ]
     },
     "metadata": {
      "needs_background": "light"
     },
     "output_type": "display_data"
    }
   ],
   "source": [
    "# Number of unique sports played each year \n",
    "number_of_sports_by_games_summer = df[df['Season'] == 'Summer'].drop_duplicates(subset = ['Games', 'Sport']).groupby('Year', observed = True).agg({'Sport': 'size'})\n",
    "number_of_sports_by_games_winter = df[df['Season'] == 'Winter'].drop_duplicates(subset = ['Games', 'Sport']).groupby('Year', observed = True).agg({'Sport': 'size'})\n",
    "\n",
    "# merge summer and winter together so they share the same x-axis/index\n",
    "sports_per_games = number_of_sports_by_games_summer.merge(number_of_sports_by_games_winter, \n",
    "                                       how = 'outer', \n",
    "                                       on = 'Year', \n",
    "                                       suffixes = ['Summer', 'Winter']).sort_index()\n",
    "# axis values\n",
    "y_summer = sports_per_games['SportSummer'].dropna()\n",
    "y_winter = sports_per_games['SportWinter'].dropna()\n",
    "x_summer = y_summer.index\n",
    "x_winter = y_winter.index\n",
    "\n",
    "# plot\n",
    "plt.figure(figsize = (14,5))\n",
    "plt.plot(x_summer, y_summer, color = 'crimson', label = 'Summer')\n",
    "plt.plot(x_winter, y_winter, color = 'royalblue', label = 'Winter')\n",
    "plt.title('Unique Sports Played at the Olympic Games', fontsize = 25)\n",
    "plt.legend(loc = 'center right')\n",
    "plt.xticks(np.arange(1890,2030,10), rotation = 45)\n",
    "plt.show()"
   ]
  },
  {
   "cell_type": "markdown",
   "id": "1182b180",
   "metadata": {},
   "source": [
    "When I think of Olympic stats, the first thing that comes to mind is a medal count table similar to the one found in [this wikipedia page](https://en.wikipedia.org/wiki/All-time_Olympic_Games_medal_table). To create a similar table, I added together the total number of times Gold, Silver, and Bronze appeared in the 'Medal' column for each country in each season, and then got a total medal count for those medals.\n",
    "\n",
    "Finally, I merged them together to give one table and sorted to show the highest medal winning countries at the top. We find the United States at the top, followed by Russia, Germany, UK, and France.\n",
    "\n",
    "*Worth noting that by the nature of sorting on Country and not Team, Russia has the combined medals of Russia and the Soviet Union* "
   ]
  },
  {
   "cell_type": "code",
   "execution_count": 28,
   "id": "aec3609c",
   "metadata": {
    "scrolled": false
   },
   "outputs": [
    {
     "data": {
      "text/html": [
       "<div>\n",
       "<style scoped>\n",
       "    .dataframe tbody tr th:only-of-type {\n",
       "        vertical-align: middle;\n",
       "    }\n",
       "\n",
       "    .dataframe tbody tr th {\n",
       "        vertical-align: top;\n",
       "    }\n",
       "\n",
       "    .dataframe thead th {\n",
       "        text-align: right;\n",
       "    }\n",
       "</style>\n",
       "<table border=\"1\" class=\"dataframe\">\n",
       "  <thead>\n",
       "    <tr style=\"text-align: right;\">\n",
       "      <th>Medal</th>\n",
       "      <th>Gold- s</th>\n",
       "      <th>Silver- s</th>\n",
       "      <th>Bronze- s</th>\n",
       "      <th>Total- s</th>\n",
       "      <th>Gold- w</th>\n",
       "      <th>Silver- w</th>\n",
       "      <th>Bronze- w</th>\n",
       "      <th>Total- w</th>\n",
       "      <th>Gold</th>\n",
       "      <th>Silver</th>\n",
       "      <th>Bronze</th>\n",
       "      <th>Total</th>\n",
       "    </tr>\n",
       "    <tr>\n",
       "      <th>Country</th>\n",
       "      <th></th>\n",
       "      <th></th>\n",
       "      <th></th>\n",
       "      <th></th>\n",
       "      <th></th>\n",
       "      <th></th>\n",
       "      <th></th>\n",
       "      <th></th>\n",
       "      <th></th>\n",
       "      <th></th>\n",
       "      <th></th>\n",
       "      <th></th>\n",
       "    </tr>\n",
       "  </thead>\n",
       "  <tbody>\n",
       "    <tr>\n",
       "      <th>USA</th>\n",
       "      <td>2472</td>\n",
       "      <td>1333</td>\n",
       "      <td>1197</td>\n",
       "      <td>5002</td>\n",
       "      <td>166</td>\n",
       "      <td>308</td>\n",
       "      <td>161</td>\n",
       "      <td>635</td>\n",
       "      <td>2638</td>\n",
       "      <td>1641</td>\n",
       "      <td>1358</td>\n",
       "      <td>5637</td>\n",
       "    </tr>\n",
       "    <tr>\n",
       "      <th>Russia</th>\n",
       "      <td>1220</td>\n",
       "      <td>974</td>\n",
       "      <td>994</td>\n",
       "      <td>3188</td>\n",
       "      <td>379</td>\n",
       "      <td>196</td>\n",
       "      <td>184</td>\n",
       "      <td>759</td>\n",
       "      <td>1599</td>\n",
       "      <td>1170</td>\n",
       "      <td>1178</td>\n",
       "      <td>3947</td>\n",
       "    </tr>\n",
       "    <tr>\n",
       "      <th>Germany</th>\n",
       "      <td>1075</td>\n",
       "      <td>987</td>\n",
       "      <td>1064</td>\n",
       "      <td>3126</td>\n",
       "      <td>226</td>\n",
       "      <td>208</td>\n",
       "      <td>196</td>\n",
       "      <td>630</td>\n",
       "      <td>1301</td>\n",
       "      <td>1195</td>\n",
       "      <td>1260</td>\n",
       "      <td>3756</td>\n",
       "    </tr>\n",
       "    <tr>\n",
       "      <th>UK</th>\n",
       "      <td>636</td>\n",
       "      <td>729</td>\n",
       "      <td>620</td>\n",
       "      <td>1985</td>\n",
       "      <td>42</td>\n",
       "      <td>10</td>\n",
       "      <td>31</td>\n",
       "      <td>83</td>\n",
       "      <td>678</td>\n",
       "      <td>739</td>\n",
       "      <td>651</td>\n",
       "      <td>2068</td>\n",
       "    </tr>\n",
       "    <tr>\n",
       "      <th>France</th>\n",
       "      <td>465</td>\n",
       "      <td>575</td>\n",
       "      <td>587</td>\n",
       "      <td>1627</td>\n",
       "      <td>36</td>\n",
       "      <td>35</td>\n",
       "      <td>79</td>\n",
       "      <td>150</td>\n",
       "      <td>501</td>\n",
       "      <td>610</td>\n",
       "      <td>666</td>\n",
       "      <td>1777</td>\n",
       "    </tr>\n",
       "    <tr>\n",
       "      <th>Italy</th>\n",
       "      <td>518</td>\n",
       "      <td>474</td>\n",
       "      <td>454</td>\n",
       "      <td>1446</td>\n",
       "      <td>57</td>\n",
       "      <td>57</td>\n",
       "      <td>77</td>\n",
       "      <td>191</td>\n",
       "      <td>575</td>\n",
       "      <td>531</td>\n",
       "      <td>531</td>\n",
       "      <td>1637</td>\n",
       "    </tr>\n",
       "    <tr>\n",
       "      <th>Australia</th>\n",
       "      <td>362</td>\n",
       "      <td>456</td>\n",
       "      <td>515</td>\n",
       "      <td>1333</td>\n",
       "      <td>6</td>\n",
       "      <td>3</td>\n",
       "      <td>7</td>\n",
       "      <td>16</td>\n",
       "      <td>368</td>\n",
       "      <td>459</td>\n",
       "      <td>522</td>\n",
       "      <td>1349</td>\n",
       "    </tr>\n",
       "    <tr>\n",
       "      <th>Hungary</th>\n",
       "      <td>432</td>\n",
       "      <td>328</td>\n",
       "      <td>363</td>\n",
       "      <td>1123</td>\n",
       "      <td>0</td>\n",
       "      <td>4</td>\n",
       "      <td>8</td>\n",
       "      <td>12</td>\n",
       "      <td>432</td>\n",
       "      <td>332</td>\n",
       "      <td>371</td>\n",
       "      <td>1135</td>\n",
       "    </tr>\n",
       "    <tr>\n",
       "      <th>Sweden</th>\n",
       "      <td>354</td>\n",
       "      <td>396</td>\n",
       "      <td>358</td>\n",
       "      <td>1108</td>\n",
       "      <td>125</td>\n",
       "      <td>126</td>\n",
       "      <td>177</td>\n",
       "      <td>428</td>\n",
       "      <td>479</td>\n",
       "      <td>522</td>\n",
       "      <td>535</td>\n",
       "      <td>1536</td>\n",
       "    </tr>\n",
       "    <tr>\n",
       "      <th>Netherlands</th>\n",
       "      <td>245</td>\n",
       "      <td>302</td>\n",
       "      <td>371</td>\n",
       "      <td>918</td>\n",
       "      <td>42</td>\n",
       "      <td>38</td>\n",
       "      <td>42</td>\n",
       "      <td>122</td>\n",
       "      <td>287</td>\n",
       "      <td>340</td>\n",
       "      <td>413</td>\n",
       "      <td>1040</td>\n",
       "    </tr>\n",
       "    <tr>\n",
       "      <th>China</th>\n",
       "      <td>335</td>\n",
       "      <td>319</td>\n",
       "      <td>259</td>\n",
       "      <td>913</td>\n",
       "      <td>16</td>\n",
       "      <td>30</td>\n",
       "      <td>34</td>\n",
       "      <td>80</td>\n",
       "      <td>351</td>\n",
       "      <td>349</td>\n",
       "      <td>293</td>\n",
       "      <td>993</td>\n",
       "    </tr>\n",
       "    <tr>\n",
       "      <th>Japan</th>\n",
       "      <td>230</td>\n",
       "      <td>287</td>\n",
       "      <td>333</td>\n",
       "      <td>850</td>\n",
       "      <td>17</td>\n",
       "      <td>22</td>\n",
       "      <td>24</td>\n",
       "      <td>63</td>\n",
       "      <td>247</td>\n",
       "      <td>309</td>\n",
       "      <td>357</td>\n",
       "      <td>913</td>\n",
       "    </tr>\n",
       "    <tr>\n",
       "      <th>Canada</th>\n",
       "      <td>158</td>\n",
       "      <td>239</td>\n",
       "      <td>344</td>\n",
       "      <td>741</td>\n",
       "      <td>305</td>\n",
       "      <td>199</td>\n",
       "      <td>107</td>\n",
       "      <td>611</td>\n",
       "      <td>463</td>\n",
       "      <td>438</td>\n",
       "      <td>451</td>\n",
       "      <td>1352</td>\n",
       "    </tr>\n",
       "    <tr>\n",
       "      <th>Romania</th>\n",
       "      <td>161</td>\n",
       "      <td>200</td>\n",
       "      <td>290</td>\n",
       "      <td>651</td>\n",
       "      <td>0</td>\n",
       "      <td>0</td>\n",
       "      <td>2</td>\n",
       "      <td>2</td>\n",
       "      <td>161</td>\n",
       "      <td>200</td>\n",
       "      <td>292</td>\n",
       "      <td>653</td>\n",
       "    </tr>\n",
       "    <tr>\n",
       "      <th>Denmark</th>\n",
       "      <td>179</td>\n",
       "      <td>236</td>\n",
       "      <td>177</td>\n",
       "      <td>592</td>\n",
       "      <td>0</td>\n",
       "      <td>5</td>\n",
       "      <td>0</td>\n",
       "      <td>5</td>\n",
       "      <td>179</td>\n",
       "      <td>241</td>\n",
       "      <td>177</td>\n",
       "      <td>597</td>\n",
       "    </tr>\n",
       "  </tbody>\n",
       "</table>\n",
       "</div>"
      ],
      "text/plain": [
       "Medal        Gold- s  Silver- s  Bronze- s  Total- s  Gold- w  Silver- w  \\\n",
       "Country                                                                    \n",
       "USA             2472       1333       1197      5002      166        308   \n",
       "Russia          1220        974        994      3188      379        196   \n",
       "Germany         1075        987       1064      3126      226        208   \n",
       "UK               636        729        620      1985       42         10   \n",
       "France           465        575        587      1627       36         35   \n",
       "Italy            518        474        454      1446       57         57   \n",
       "Australia        362        456        515      1333        6          3   \n",
       "Hungary          432        328        363      1123        0          4   \n",
       "Sweden           354        396        358      1108      125        126   \n",
       "Netherlands      245        302        371       918       42         38   \n",
       "China            335        319        259       913       16         30   \n",
       "Japan            230        287        333       850       17         22   \n",
       "Canada           158        239        344       741      305        199   \n",
       "Romania          161        200        290       651        0          0   \n",
       "Denmark          179        236        177       592        0          5   \n",
       "\n",
       "Medal        Bronze- w  Total- w  Gold  Silver  Bronze  Total  \n",
       "Country                                                        \n",
       "USA                161       635  2638    1641    1358   5637  \n",
       "Russia             184       759  1599    1170    1178   3947  \n",
       "Germany            196       630  1301    1195    1260   3756  \n",
       "UK                  31        83   678     739     651   2068  \n",
       "France              79       150   501     610     666   1777  \n",
       "Italy               77       191   575     531     531   1637  \n",
       "Australia            7        16   368     459     522   1349  \n",
       "Hungary              8        12   432     332     371   1135  \n",
       "Sweden             177       428   479     522     535   1536  \n",
       "Netherlands         42       122   287     340     413   1040  \n",
       "China               34        80   351     349     293    993  \n",
       "Japan               24        63   247     309     357    913  \n",
       "Canada             107       611   463     438     451   1352  \n",
       "Romania              2         2   161     200     292    653  \n",
       "Denmark              0         5   179     241     177    597  "
      ]
     },
     "execution_count": 28,
     "metadata": {},
     "output_type": "execute_result"
    }
   ],
   "source": [
    "# Group df by the 3 columns we care about: Country, Medal, and Season\n",
    "season_medal_count = df.groupby(['Country', 'Medal', 'Season']).size().unstack().unstack()\n",
    "\n",
    "# Create winter medal chart\n",
    "winter_medal_count = season_medal_count['Winter'].copy()\n",
    "winter_medal_count.drop('None', axis = 'columns', inplace = True)\n",
    "total_w = winter_medal_count.sum(axis = 1)\n",
    "winter_medal_count.insert(3, column = 'Total', value = total_w)\n",
    "winter_medal_count.sort_values('Total', ascending = False, inplace = True)\n",
    "winter_medal_count = winter_medal_count[['Gold', 'Silver', 'Bronze', 'Total']]\n",
    "\n",
    "# Create summer medal chart\n",
    "summer_medal_count = season_medal_count['Summer'].copy()\n",
    "summer_medal_count.drop('None', axis = 'columns', inplace = True)\n",
    "total_s = summer_medal_count.sum(axis = 1)\n",
    "summer_medal_count.insert(3, column = 'Total', value = total_s)\n",
    "summer_medal_count.sort_values('Total', ascending = False, inplace = True)\n",
    "summer_medal_count = summer_medal_count[['Gold', 'Silver', 'Bronze', 'Total']]\n",
    "\n",
    "# Create overall country medal count\n",
    "country_medal_count = df.groupby(['Country', 'Medal']).size().unstack()\n",
    "country_medal_count.drop('None', axis = 'columns', inplace = True)\n",
    "total_m = country_medal_count.sum(axis = 1)\n",
    "country_medal_count.insert(3, column = 'Total', value = total_m)\n",
    "country_medal_count.sort_values('Total', ascending = False, inplace = True)\n",
    "country_medal_count = country_medal_count[['Gold', 'Silver', 'Bronze', 'Total']]\n",
    "\n",
    "# Put it all together to get our total medal table\n",
    "all_medals = pd.merge(pd.merge(summer_medal_count, winter_medal_count, on = 'Country', suffixes = ('- s', '- w')), country_medal_count, on = 'Country')\n",
    "all_medals.head(15)"
   ]
  },
  {
   "cell_type": "markdown",
   "id": "a8436314",
   "metadata": {},
   "source": [
    "Converting that chart into a plot, we can see the medal breakdown of the top 20 countries."
   ]
  },
  {
   "cell_type": "code",
   "execution_count": 29,
   "id": "7195923a",
   "metadata": {
    "scrolled": true
   },
   "outputs": [
    {
     "data": {
      "image/png": "[encoded data removed]",
      "text/plain": [
       "<Figure size 1008x360 with 1 Axes>"
      ]
     },
     "metadata": {
      "needs_background": "light"
     },
     "output_type": "display_data"
    }
   ],
   "source": [
    "# Set axis values\n",
    "x = country_medal_count[['Gold', 'Silver', 'Bronze']].head(15).index\n",
    "y_gold = country_medal_count['Gold'].head(15).values\n",
    "y_silver = country_medal_count['Silver'].head(15).values\n",
    "y_bronze = country_medal_count['Bronze'].head(15).values\n",
    "\n",
    "# Create figure and spacing for bars\n",
    "plt.figure(figsize = (14, 5))\n",
    "N = 15\n",
    "ind = np.arange(N)\n",
    "width = 0.3 \n",
    "\n",
    "# Create 3 medal bars\n",
    "plt.bar(ind, y_gold, width = width, label = 'Gold', color = 'goldenrod')\n",
    "plt.bar(ind + width, y_silver, width = width, label = 'Silver', color = 'grey')\n",
    "plt.bar(ind + 2*width, y_bronze, width = width, label = 'Bronze', color = 'saddlebrown')\n",
    "\n",
    "plt.title('Medal Breakdown of Top 20 Teams', fontsize = 30)\n",
    "plt.xticks(ticks = ind, labels = x, rotation = 60, fontsize = 15)\n",
    "plt.xlabel('Country')\n",
    "plt.ylabel('Medal Count')\n",
    "plt.legend()\n",
    "plt.show()"
   ]
  },
  {
   "cell_type": "markdown",
   "id": "e43476c4",
   "metadata": {},
   "source": [
    "Next, I want to see if the top countries are at the top because their athletes are actually stronger in their respective sports, or if perhaps it's simply a numbers game and they just send a LOT of athletes to the games and the medals are just statistically more likely. \n",
    "\n",
    "For this, I divided the number of medals each country has won by the number of athletes they have competing to get a \"Medal to Athlete Ratio\" ('M/A Ratio').\n",
    "\n",
    "The top three medal winners (US, Russia, and Germany) are also in the top 3 'M/A Ratio' with around 30% of athletes winning a medal. Surpringly, Pakistan ranks 4th with 22% of athletes winning a medal despite it not even being in the top 15 overall medal winners. The UK is ranked 13 in M/A Ratio, and France isnt even in the top 15.  "
   ]
  },
  {
   "cell_type": "markdown",
   "id": "1b64397f",
   "metadata": {},
   "source": [
    "[Go to Top](#top)\n",
    "<a class=\"anchor\" id=\"countries\"></a>\n",
    "## United States Performance"
   ]
  },
  {
   "cell_type": "markdown",
   "id": "89eecf8a",
   "metadata": {},
   "source": [
    "Here, we'll be looking speciifically at how Team USA has performed in the olympic games. So we'll only be working with two main datasets:\n",
    "* **us_athletes**: All athletes who had an event, regardless of if they medaled\n",
    "* **us_medalists**: Any memeber of Team USA who received a medal"
   ]
  },
  {
   "cell_type": "code",
   "execution_count": 31,
   "id": "a852ff9b",
   "metadata": {},
   "outputs": [],
   "source": [
    "us_athletes = df[df['Country'] == 'USA']\n",
    "us_medalists = us_athletes[us_athletes['Medal'] != 'None']"
   ]
  },
  {
   "cell_type": "markdown",
   "id": "39426967",
   "metadata": {},
   "source": [
    "Here is the top 10 sports that Team USA has received a medal in"
   ]
  },
  {
   "cell_type": "code",
   "execution_count": 32,
   "id": "994689b5",
   "metadata": {},
   "outputs": [
    {
     "data": {
      "text/plain": [
       "Sport\n",
       "Athletics     1080\n",
       "Swimming      1078\n",
       "Rowing         375\n",
       "Basketball     341\n",
       "Ice Hockey     276\n",
       "Gymnastics     194\n",
       "Shooting       193\n",
       "Water Polo     150\n",
       "Sailing        140\n",
       "Diving         140\n",
       "dtype: int64"
      ]
     },
     "execution_count": 32,
     "metadata": {},
     "output_type": "execute_result"
    }
   ],
   "source": [
    "us_medalists.groupby('Sport').size().sort_values(ascending = False).head(10)"
   ]
  },
  {
   "cell_type": "code",
   "execution_count": 33,
   "id": "9ef933bb",
   "metadata": {},
   "outputs": [
    {
     "data": {
      "text/html": [
       "<div>\n",
       "<style scoped>\n",
       "    .dataframe tbody tr th:only-of-type {\n",
       "        vertical-align: middle;\n",
       "    }\n",
       "\n",
       "    .dataframe tbody tr th {\n",
       "        vertical-align: top;\n",
       "    }\n",
       "\n",
       "    .dataframe thead th {\n",
       "        text-align: right;\n",
       "    }\n",
       "</style>\n",
       "<table border=\"1\" class=\"dataframe\">\n",
       "  <thead>\n",
       "    <tr style=\"text-align: right;\">\n",
       "      <th>Medal</th>\n",
       "      <th>Bronze</th>\n",
       "      <th>Gold</th>\n",
       "      <th>Silver</th>\n",
       "      <th>Total</th>\n",
       "    </tr>\n",
       "    <tr>\n",
       "      <th>Sport</th>\n",
       "      <th></th>\n",
       "      <th></th>\n",
       "      <th></th>\n",
       "      <th></th>\n",
       "    </tr>\n",
       "  </thead>\n",
       "  <tbody>\n",
       "    <tr>\n",
       "      <th>Athletics</th>\n",
       "      <td>221</td>\n",
       "      <td>542</td>\n",
       "      <td>317</td>\n",
       "      <td>1080</td>\n",
       "    </tr>\n",
       "    <tr>\n",
       "      <th>Swimming</th>\n",
       "      <td>175</td>\n",
       "      <td>649</td>\n",
       "      <td>254</td>\n",
       "      <td>1078</td>\n",
       "    </tr>\n",
       "    <tr>\n",
       "      <th>Rowing</th>\n",
       "      <td>88</td>\n",
       "      <td>186</td>\n",
       "      <td>101</td>\n",
       "      <td>375</td>\n",
       "    </tr>\n",
       "    <tr>\n",
       "      <th>Basketball</th>\n",
       "      <td>36</td>\n",
       "      <td>281</td>\n",
       "      <td>24</td>\n",
       "      <td>341</td>\n",
       "    </tr>\n",
       "    <tr>\n",
       "      <th>Ice Hockey</th>\n",
       "      <td>31</td>\n",
       "      <td>56</td>\n",
       "      <td>189</td>\n",
       "      <td>276</td>\n",
       "    </tr>\n",
       "    <tr>\n",
       "      <th>...</th>\n",
       "      <td>...</td>\n",
       "      <td>...</td>\n",
       "      <td>...</td>\n",
       "      <td>...</td>\n",
       "    </tr>\n",
       "    <tr>\n",
       "      <th>Handball</th>\n",
       "      <td>0</td>\n",
       "      <td>0</td>\n",
       "      <td>0</td>\n",
       "      <td>0</td>\n",
       "    </tr>\n",
       "    <tr>\n",
       "      <th>Military Ski Patrol</th>\n",
       "      <td>0</td>\n",
       "      <td>0</td>\n",
       "      <td>0</td>\n",
       "      <td>0</td>\n",
       "    </tr>\n",
       "    <tr>\n",
       "      <th>Rugby Sevens</th>\n",
       "      <td>0</td>\n",
       "      <td>0</td>\n",
       "      <td>0</td>\n",
       "      <td>0</td>\n",
       "    </tr>\n",
       "    <tr>\n",
       "      <th>Motorboating</th>\n",
       "      <td>0</td>\n",
       "      <td>0</td>\n",
       "      <td>0</td>\n",
       "      <td>0</td>\n",
       "    </tr>\n",
       "    <tr>\n",
       "      <th>Aeronautics</th>\n",
       "      <td>0</td>\n",
       "      <td>0</td>\n",
       "      <td>0</td>\n",
       "      <td>0</td>\n",
       "    </tr>\n",
       "  </tbody>\n",
       "</table>\n",
       "<p>66 rows × 4 columns</p>\n",
       "</div>"
      ],
      "text/plain": [
       "Medal                Bronze  Gold  Silver  Total\n",
       "Sport                                           \n",
       "Athletics               221   542     317   1080\n",
       "Swimming                175   649     254   1078\n",
       "Rowing                   88   186     101    375\n",
       "Basketball               36   281      24    341\n",
       "Ice Hockey               31    56     189    276\n",
       "...                     ...   ...     ...    ...\n",
       "Handball                  0     0       0      0\n",
       "Military Ski Patrol       0     0       0      0\n",
       "Rugby Sevens              0     0       0      0\n",
       "Motorboating              0     0       0      0\n",
       "Aeronautics               0     0       0      0\n",
       "\n",
       "[66 rows x 4 columns]"
      ]
     },
     "execution_count": 33,
     "metadata": {},
     "output_type": "execute_result"
    }
   ],
   "source": [
    "us_medal_count = us_medalists.groupby(['Sport', 'Medal']).size().unstack()\n",
    "us_medal_count.drop('None', axis = 'columns', inplace = True)\n",
    "totals = us_medal_count.sum(axis = 1)\n",
    "us_medal_count.insert(3, column = 'Total', value = totals)\n",
    "us_medal_count.sort_values('Total', ascending = False, inplace = True)\n",
    "us_medal_count"
   ]
  },
  {
   "cell_type": "markdown",
   "id": "823d0781",
   "metadata": {},
   "source": [
    "Olympic Games hosted in the United States\n",
    "* 1904 Summer\n",
    "* 1932 Winter/Summer\n",
    "* 1960 Winter\n",
    "* 1980 Winter\n",
    "* 1984 Summer\n",
    "* 1996 Summer\n",
    "* 2002 Winter"
   ]
  },
  {
   "cell_type": "code",
   "execution_count": 34,
   "id": "1bf17154",
   "metadata": {},
   "outputs": [
    {
     "data": {
      "image/png": "[encoded data removed]",
      "text/plain": [
       "<Figure size 576x288 with 1 Axes>"
      ]
     },
     "metadata": {
      "needs_background": "light"
     },
     "output_type": "display_data"
    }
   ],
   "source": [
    "from matplotlib.patches import Patch\n",
    "games_participation = us_athletes.groupby('Games').size().sort_values(ascending = False)\n",
    "x = games_participation.head(20).index\n",
    "y = games_participation.head(20).values\n",
    "colors = ['royalblue','royalblue','grey','grey','royalblue','grey','grey','grey','royalblue','grey','grey','grey','grey','grey','grey','grey','grey','grey','grey','grey']\n",
    "\n",
    "plt.figure(figsize = (8,4))\n",
    "plt.bar(x,y, color = colors)\n",
    "plt.title('US Athlete Attendance By Games and Host Country')\n",
    "plt.xticks(rotation = 70, fontsize = 10)\n",
    "plt.ylabel('US Athletes')\n",
    "legend_elements = [Patch(facecolor='royalblue', label='Host'),\n",
    "                  Patch(facecolor = 'grey', label = 'Foreign')]\n",
    "plt.legend(handles=legend_elements)\n",
    "plt.show()\n"
   ]
  },
  {
   "cell_type": "markdown",
   "id": "7b85b882",
   "metadata": {},
   "source": [
    "[Go to Top](#top)\n",
    "<a class=\"anchor\" id=\"athlete_medals\"></a>\n",
    "## Athelete Specific Medals"
   ]
  },
  {
   "cell_type": "markdown",
   "id": "8c62543e",
   "metadata": {},
   "source": [
    "The top 10 medal winners in history. The US swimmer Michael Phelps is the most decorated Olympian in history with 28 medals. And we see that swimming and gymnastics both offer enough opportunities for medals that they dominate the field."
   ]
  },
  {
   "cell_type": "code",
   "execution_count": 35,
   "id": "cda331cb",
   "metadata": {},
   "outputs": [
    {
     "data": {
      "text/html": [
       "<div>\n",
       "<style scoped>\n",
       "    .dataframe tbody tr th:only-of-type {\n",
       "        vertical-align: middle;\n",
       "    }\n",
       "\n",
       "    .dataframe tbody tr th {\n",
       "        vertical-align: top;\n",
       "    }\n",
       "\n",
       "    .dataframe thead th {\n",
       "        text-align: right;\n",
       "    }\n",
       "</style>\n",
       "<table border=\"1\" class=\"dataframe\">\n",
       "  <thead>\n",
       "    <tr style=\"text-align: right;\">\n",
       "      <th></th>\n",
       "      <th></th>\n",
       "      <th>Medal</th>\n",
       "    </tr>\n",
       "    <tr>\n",
       "      <th>Athlete Name</th>\n",
       "      <th>Sport</th>\n",
       "      <th></th>\n",
       "    </tr>\n",
       "  </thead>\n",
       "  <tbody>\n",
       "    <tr>\n",
       "      <th>Michael Fred Phelps, II</th>\n",
       "      <th>Swimming</th>\n",
       "      <td>28</td>\n",
       "    </tr>\n",
       "    <tr>\n",
       "      <th>Larysa Semenivna Latynina (Diriy-)</th>\n",
       "      <th>Gymnastics</th>\n",
       "      <td>18</td>\n",
       "    </tr>\n",
       "    <tr>\n",
       "      <th>Nikolay Yefimovich Andrianov</th>\n",
       "      <th>Gymnastics</th>\n",
       "      <td>15</td>\n",
       "    </tr>\n",
       "    <tr>\n",
       "      <th>Borys Anfiyanovych Shakhlin</th>\n",
       "      <th>Gymnastics</th>\n",
       "      <td>13</td>\n",
       "    </tr>\n",
       "    <tr>\n",
       "      <th>Ole Einar Bjrndalen</th>\n",
       "      <th>Biathlon</th>\n",
       "      <td>13</td>\n",
       "    </tr>\n",
       "    <tr>\n",
       "      <th>Edoardo Mangiarotti</th>\n",
       "      <th>Fencing</th>\n",
       "      <td>13</td>\n",
       "    </tr>\n",
       "    <tr>\n",
       "      <th>Takashi Ono</th>\n",
       "      <th>Gymnastics</th>\n",
       "      <td>13</td>\n",
       "    </tr>\n",
       "    <tr>\n",
       "      <th>Dara Grace Torres (-Hoffman, -Minas)</th>\n",
       "      <th>Swimming</th>\n",
       "      <td>12</td>\n",
       "    </tr>\n",
       "    <tr>\n",
       "      <th>Jennifer Elisabeth \"Jenny\" Thompson (-Cumpelik)</th>\n",
       "      <th>Swimming</th>\n",
       "      <td>12</td>\n",
       "    </tr>\n",
       "    <tr>\n",
       "      <th>Ryan Steven Lochte</th>\n",
       "      <th>Swimming</th>\n",
       "      <td>12</td>\n",
       "    </tr>\n",
       "  </tbody>\n",
       "</table>\n",
       "</div>"
      ],
      "text/plain": [
       "                                                            Medal\n",
       "Athlete Name                                    Sport            \n",
       "Michael Fred Phelps, II                         Swimming       28\n",
       "Larysa Semenivna Latynina (Diriy-)              Gymnastics     18\n",
       "Nikolay Yefimovich Andrianov                    Gymnastics     15\n",
       "Borys Anfiyanovych Shakhlin                     Gymnastics     13\n",
       "Ole Einar Bjrndalen                             Biathlon       13\n",
       "Edoardo Mangiarotti                             Fencing        13\n",
       "Takashi Ono                                     Gymnastics     13\n",
       "Dara Grace Torres (-Hoffman, -Minas)            Swimming       12\n",
       "Jennifer Elisabeth \"Jenny\" Thompson (-Cumpelik) Swimming       12\n",
       "Ryan Steven Lochte                              Swimming       12"
      ]
     },
     "execution_count": 35,
     "metadata": {},
     "output_type": "execute_result"
    }
   ],
   "source": [
    "any_medalists = df[df['Medal'] != 'None']\n",
    "athlete_sport_pivot = any_medalists.pivot_table(values = 'Medal', index = ['Athlete Name', 'Sport'], aggfunc = 'count').sort_values('Medal', ascending = False)\n",
    "athlete_sport_pivot.head(10)"
   ]
  },
  {
   "cell_type": "markdown",
   "id": "eb4acb7f",
   "metadata": {},
   "source": [
    "We also can find the athlete who won the most medals at each Olympic Games. Here were are looking at the last 10 Games (not surprisingly, Michael Phelps has dominated every Summer Games since 2004.\n",
    "\n",
    "The record for most medals in a single game in 8, with 3 occurences\n",
    "* 2008: Michael Phelps (Swimming)\n",
    "* 2004: Michael Phelps (Swimming)\n",
    "* 1980: Aleksandr Dityatin (Gymnastics)*\n",
    "\n",
    "*1980 Summer Olympics were held in Moscow, and 66 countries boycotted due to Cold War political tensions."
   ]
  },
  {
   "cell_type": "code",
   "execution_count": 36,
   "id": "22df4b4c",
   "metadata": {
    "collapsed": true
   },
   "outputs": [
    {
     "name": "stderr",
     "output_type": "stream",
     "text": [
      "C:\\Users\\tbert\\AppData\\Local\\Temp\\ipykernel_17628\\359938369.py:7: FutureWarning: The frame.append method is deprecated and will be removed from pandas in a future version. Use pandas.concat instead.\n",
      "  df1 = df1.append(top_medal_winner)\n",
      "C:\\Users\\tbert\\AppData\\Local\\Temp\\ipykernel_17628\\359938369.py:7: FutureWarning: The frame.append method is deprecated and will be removed from pandas in a future version. Use pandas.concat instead.\n",
      "  df1 = df1.append(top_medal_winner)\n",
      "C:\\Users\\tbert\\AppData\\Local\\Temp\\ipykernel_17628\\359938369.py:7: FutureWarning: The frame.append method is deprecated and will be removed from pandas in a future version. Use pandas.concat instead.\n",
      "  df1 = df1.append(top_medal_winner)\n",
      "C:\\Users\\tbert\\AppData\\Local\\Temp\\ipykernel_17628\\359938369.py:7: FutureWarning: The frame.append method is deprecated and will be removed from pandas in a future version. Use pandas.concat instead.\n",
      "  df1 = df1.append(top_medal_winner)\n",
      "C:\\Users\\tbert\\AppData\\Local\\Temp\\ipykernel_17628\\359938369.py:7: FutureWarning: The frame.append method is deprecated and will be removed from pandas in a future version. Use pandas.concat instead.\n",
      "  df1 = df1.append(top_medal_winner)\n",
      "C:\\Users\\tbert\\AppData\\Local\\Temp\\ipykernel_17628\\359938369.py:7: FutureWarning: The frame.append method is deprecated and will be removed from pandas in a future version. Use pandas.concat instead.\n",
      "  df1 = df1.append(top_medal_winner)\n",
      "C:\\Users\\tbert\\AppData\\Local\\Temp\\ipykernel_17628\\359938369.py:7: FutureWarning: The frame.append method is deprecated and will be removed from pandas in a future version. Use pandas.concat instead.\n",
      "  df1 = df1.append(top_medal_winner)\n",
      "C:\\Users\\tbert\\AppData\\Local\\Temp\\ipykernel_17628\\359938369.py:7: FutureWarning: The frame.append method is deprecated and will be removed from pandas in a future version. Use pandas.concat instead.\n",
      "  df1 = df1.append(top_medal_winner)\n",
      "C:\\Users\\tbert\\AppData\\Local\\Temp\\ipykernel_17628\\359938369.py:7: FutureWarning: The frame.append method is deprecated and will be removed from pandas in a future version. Use pandas.concat instead.\n",
      "  df1 = df1.append(top_medal_winner)\n",
      "C:\\Users\\tbert\\AppData\\Local\\Temp\\ipykernel_17628\\359938369.py:7: FutureWarning: The frame.append method is deprecated and will be removed from pandas in a future version. Use pandas.concat instead.\n",
      "  df1 = df1.append(top_medal_winner)\n",
      "C:\\Users\\tbert\\AppData\\Local\\Temp\\ipykernel_17628\\359938369.py:7: FutureWarning: The frame.append method is deprecated and will be removed from pandas in a future version. Use pandas.concat instead.\n",
      "  df1 = df1.append(top_medal_winner)\n",
      "C:\\Users\\tbert\\AppData\\Local\\Temp\\ipykernel_17628\\359938369.py:7: FutureWarning: The frame.append method is deprecated and will be removed from pandas in a future version. Use pandas.concat instead.\n",
      "  df1 = df1.append(top_medal_winner)\n",
      "C:\\Users\\tbert\\AppData\\Local\\Temp\\ipykernel_17628\\359938369.py:7: FutureWarning: The frame.append method is deprecated and will be removed from pandas in a future version. Use pandas.concat instead.\n",
      "  df1 = df1.append(top_medal_winner)\n",
      "C:\\Users\\tbert\\AppData\\Local\\Temp\\ipykernel_17628\\359938369.py:7: FutureWarning: The frame.append method is deprecated and will be removed from pandas in a future version. Use pandas.concat instead.\n",
      "  df1 = df1.append(top_medal_winner)\n",
      "C:\\Users\\tbert\\AppData\\Local\\Temp\\ipykernel_17628\\359938369.py:7: FutureWarning: The frame.append method is deprecated and will be removed from pandas in a future version. Use pandas.concat instead.\n",
      "  df1 = df1.append(top_medal_winner)\n",
      "C:\\Users\\tbert\\AppData\\Local\\Temp\\ipykernel_17628\\359938369.py:7: FutureWarning: The frame.append method is deprecated and will be removed from pandas in a future version. Use pandas.concat instead.\n",
      "  df1 = df1.append(top_medal_winner)\n",
      "C:\\Users\\tbert\\AppData\\Local\\Temp\\ipykernel_17628\\359938369.py:7: FutureWarning: The frame.append method is deprecated and will be removed from pandas in a future version. Use pandas.concat instead.\n",
      "  df1 = df1.append(top_medal_winner)\n",
      "C:\\Users\\tbert\\AppData\\Local\\Temp\\ipykernel_17628\\359938369.py:7: FutureWarning: The frame.append method is deprecated and will be removed from pandas in a future version. Use pandas.concat instead.\n",
      "  df1 = df1.append(top_medal_winner)\n",
      "C:\\Users\\tbert\\AppData\\Local\\Temp\\ipykernel_17628\\359938369.py:7: FutureWarning: The frame.append method is deprecated and will be removed from pandas in a future version. Use pandas.concat instead.\n",
      "  df1 = df1.append(top_medal_winner)\n",
      "C:\\Users\\tbert\\AppData\\Local\\Temp\\ipykernel_17628\\359938369.py:7: FutureWarning: The frame.append method is deprecated and will be removed from pandas in a future version. Use pandas.concat instead.\n",
      "  df1 = df1.append(top_medal_winner)\n",
      "C:\\Users\\tbert\\AppData\\Local\\Temp\\ipykernel_17628\\359938369.py:7: FutureWarning: The frame.append method is deprecated and will be removed from pandas in a future version. Use pandas.concat instead.\n",
      "  df1 = df1.append(top_medal_winner)\n",
      "C:\\Users\\tbert\\AppData\\Local\\Temp\\ipykernel_17628\\359938369.py:7: FutureWarning: The frame.append method is deprecated and will be removed from pandas in a future version. Use pandas.concat instead.\n",
      "  df1 = df1.append(top_medal_winner)\n",
      "C:\\Users\\tbert\\AppData\\Local\\Temp\\ipykernel_17628\\359938369.py:7: FutureWarning: The frame.append method is deprecated and will be removed from pandas in a future version. Use pandas.concat instead.\n",
      "  df1 = df1.append(top_medal_winner)\n",
      "C:\\Users\\tbert\\AppData\\Local\\Temp\\ipykernel_17628\\359938369.py:7: FutureWarning: The frame.append method is deprecated and will be removed from pandas in a future version. Use pandas.concat instead.\n",
      "  df1 = df1.append(top_medal_winner)\n",
      "C:\\Users\\tbert\\AppData\\Local\\Temp\\ipykernel_17628\\359938369.py:7: FutureWarning: The frame.append method is deprecated and will be removed from pandas in a future version. Use pandas.concat instead.\n",
      "  df1 = df1.append(top_medal_winner)\n",
      "C:\\Users\\tbert\\AppData\\Local\\Temp\\ipykernel_17628\\359938369.py:7: FutureWarning: The frame.append method is deprecated and will be removed from pandas in a future version. Use pandas.concat instead.\n",
      "  df1 = df1.append(top_medal_winner)\n",
      "C:\\Users\\tbert\\AppData\\Local\\Temp\\ipykernel_17628\\359938369.py:7: FutureWarning: The frame.append method is deprecated and will be removed from pandas in a future version. Use pandas.concat instead.\n",
      "  df1 = df1.append(top_medal_winner)\n",
      "C:\\Users\\tbert\\AppData\\Local\\Temp\\ipykernel_17628\\359938369.py:7: FutureWarning: The frame.append method is deprecated and will be removed from pandas in a future version. Use pandas.concat instead.\n",
      "  df1 = df1.append(top_medal_winner)\n",
      "C:\\Users\\tbert\\AppData\\Local\\Temp\\ipykernel_17628\\359938369.py:7: FutureWarning: The frame.append method is deprecated and will be removed from pandas in a future version. Use pandas.concat instead.\n",
      "  df1 = df1.append(top_medal_winner)\n",
      "C:\\Users\\tbert\\AppData\\Local\\Temp\\ipykernel_17628\\359938369.py:7: FutureWarning: The frame.append method is deprecated and will be removed from pandas in a future version. Use pandas.concat instead.\n",
      "  df1 = df1.append(top_medal_winner)\n",
      "C:\\Users\\tbert\\AppData\\Local\\Temp\\ipykernel_17628\\359938369.py:7: FutureWarning: The frame.append method is deprecated and will be removed from pandas in a future version. Use pandas.concat instead.\n",
      "  df1 = df1.append(top_medal_winner)\n",
      "C:\\Users\\tbert\\AppData\\Local\\Temp\\ipykernel_17628\\359938369.py:7: FutureWarning: The frame.append method is deprecated and will be removed from pandas in a future version. Use pandas.concat instead.\n",
      "  df1 = df1.append(top_medal_winner)\n",
      "C:\\Users\\tbert\\AppData\\Local\\Temp\\ipykernel_17628\\359938369.py:7: FutureWarning: The frame.append method is deprecated and will be removed from pandas in a future version. Use pandas.concat instead.\n",
      "  df1 = df1.append(top_medal_winner)\n",
      "C:\\Users\\tbert\\AppData\\Local\\Temp\\ipykernel_17628\\359938369.py:7: FutureWarning: The frame.append method is deprecated and will be removed from pandas in a future version. Use pandas.concat instead.\n",
      "  df1 = df1.append(top_medal_winner)\n",
      "C:\\Users\\tbert\\AppData\\Local\\Temp\\ipykernel_17628\\359938369.py:7: FutureWarning: The frame.append method is deprecated and will be removed from pandas in a future version. Use pandas.concat instead.\n",
      "  df1 = df1.append(top_medal_winner)\n",
      "C:\\Users\\tbert\\AppData\\Local\\Temp\\ipykernel_17628\\359938369.py:7: FutureWarning: The frame.append method is deprecated and will be removed from pandas in a future version. Use pandas.concat instead.\n",
      "  df1 = df1.append(top_medal_winner)\n",
      "C:\\Users\\tbert\\AppData\\Local\\Temp\\ipykernel_17628\\359938369.py:7: FutureWarning: The frame.append method is deprecated and will be removed from pandas in a future version. Use pandas.concat instead.\n",
      "  df1 = df1.append(top_medal_winner)\n",
      "C:\\Users\\tbert\\AppData\\Local\\Temp\\ipykernel_17628\\359938369.py:7: FutureWarning: The frame.append method is deprecated and will be removed from pandas in a future version. Use pandas.concat instead.\n",
      "  df1 = df1.append(top_medal_winner)\n",
      "C:\\Users\\tbert\\AppData\\Local\\Temp\\ipykernel_17628\\359938369.py:7: FutureWarning: The frame.append method is deprecated and will be removed from pandas in a future version. Use pandas.concat instead.\n",
      "  df1 = df1.append(top_medal_winner)\n",
      "C:\\Users\\tbert\\AppData\\Local\\Temp\\ipykernel_17628\\359938369.py:7: FutureWarning: The frame.append method is deprecated and will be removed from pandas in a future version. Use pandas.concat instead.\n",
      "  df1 = df1.append(top_medal_winner)\n",
      "C:\\Users\\tbert\\AppData\\Local\\Temp\\ipykernel_17628\\359938369.py:7: FutureWarning: The frame.append method is deprecated and will be removed from pandas in a future version. Use pandas.concat instead.\n",
      "  df1 = df1.append(top_medal_winner)\n",
      "C:\\Users\\tbert\\AppData\\Local\\Temp\\ipykernel_17628\\359938369.py:7: FutureWarning: The frame.append method is deprecated and will be removed from pandas in a future version. Use pandas.concat instead.\n",
      "  df1 = df1.append(top_medal_winner)\n"
     ]
    },
    {
     "name": "stderr",
     "output_type": "stream",
     "text": [
      "C:\\Users\\tbert\\AppData\\Local\\Temp\\ipykernel_17628\\359938369.py:7: FutureWarning: The frame.append method is deprecated and will be removed from pandas in a future version. Use pandas.concat instead.\n",
      "  df1 = df1.append(top_medal_winner)\n",
      "C:\\Users\\tbert\\AppData\\Local\\Temp\\ipykernel_17628\\359938369.py:7: FutureWarning: The frame.append method is deprecated and will be removed from pandas in a future version. Use pandas.concat instead.\n",
      "  df1 = df1.append(top_medal_winner)\n",
      "C:\\Users\\tbert\\AppData\\Local\\Temp\\ipykernel_17628\\359938369.py:7: FutureWarning: The frame.append method is deprecated and will be removed from pandas in a future version. Use pandas.concat instead.\n",
      "  df1 = df1.append(top_medal_winner)\n",
      "C:\\Users\\tbert\\AppData\\Local\\Temp\\ipykernel_17628\\359938369.py:7: FutureWarning: The frame.append method is deprecated and will be removed from pandas in a future version. Use pandas.concat instead.\n",
      "  df1 = df1.append(top_medal_winner)\n",
      "C:\\Users\\tbert\\AppData\\Local\\Temp\\ipykernel_17628\\359938369.py:7: FutureWarning: The frame.append method is deprecated and will be removed from pandas in a future version. Use pandas.concat instead.\n",
      "  df1 = df1.append(top_medal_winner)\n",
      "C:\\Users\\tbert\\AppData\\Local\\Temp\\ipykernel_17628\\359938369.py:7: FutureWarning: The frame.append method is deprecated and will be removed from pandas in a future version. Use pandas.concat instead.\n",
      "  df1 = df1.append(top_medal_winner)\n",
      "C:\\Users\\tbert\\AppData\\Local\\Temp\\ipykernel_17628\\359938369.py:7: FutureWarning: The frame.append method is deprecated and will be removed from pandas in a future version. Use pandas.concat instead.\n",
      "  df1 = df1.append(top_medal_winner)\n",
      "C:\\Users\\tbert\\AppData\\Local\\Temp\\ipykernel_17628\\359938369.py:7: FutureWarning: The frame.append method is deprecated and will be removed from pandas in a future version. Use pandas.concat instead.\n",
      "  df1 = df1.append(top_medal_winner)\n",
      "C:\\Users\\tbert\\AppData\\Local\\Temp\\ipykernel_17628\\359938369.py:7: FutureWarning: The frame.append method is deprecated and will be removed from pandas in a future version. Use pandas.concat instead.\n",
      "  df1 = df1.append(top_medal_winner)\n"
     ]
    }
   ],
   "source": [
    "athlete_games_pivot = any_medalists.pivot_table(values = 'Medal', index = ['Athlete Name', 'Games'], aggfunc = 'count').sort_values('Medal', ascending = False)\n",
    "athlete_games = athlete_games_pivot.reset_index()\n",
    "athlete_games_group = athlete_games.groupby('Games')\n",
    "df1 = pd.DataFrame(columns = athlete_games.columns)\n",
    "for games, athletes in athlete_games_group:\n",
    "    top_medal_winner = athletes.nlargest(1, 'Medal')\n",
    "    df1 = df1.append(top_medal_winner)"
   ]
  },
  {
   "cell_type": "code",
   "execution_count": 37,
   "id": "bd96a40c",
   "metadata": {
    "scrolled": true
   },
   "outputs": [
    {
     "data": {
      "text/html": [
       "<div>\n",
       "<style scoped>\n",
       "    .dataframe tbody tr th:only-of-type {\n",
       "        vertical-align: middle;\n",
       "    }\n",
       "\n",
       "    .dataframe tbody tr th {\n",
       "        vertical-align: top;\n",
       "    }\n",
       "\n",
       "    .dataframe thead th {\n",
       "        text-align: right;\n",
       "    }\n",
       "</style>\n",
       "<table border=\"1\" class=\"dataframe\">\n",
       "  <thead>\n",
       "    <tr style=\"text-align: right;\">\n",
       "      <th></th>\n",
       "      <th>Athlete Name</th>\n",
       "      <th>Games</th>\n",
       "      <th>Medal</th>\n",
       "    </tr>\n",
       "  </thead>\n",
       "  <tbody>\n",
       "    <tr>\n",
       "      <th>12</th>\n",
       "      <td>Michael Fred Phelps, II</td>\n",
       "      <td>2016 Summer</td>\n",
       "      <td>6</td>\n",
       "    </tr>\n",
       "    <tr>\n",
       "      <th>87</th>\n",
       "      <td>Irene Karlijn \"Ireen\" Wst</td>\n",
       "      <td>2014 Winter</td>\n",
       "      <td>5</td>\n",
       "    </tr>\n",
       "    <tr>\n",
       "      <th>13</th>\n",
       "      <td>Michael Fred Phelps, II</td>\n",
       "      <td>2012 Summer</td>\n",
       "      <td>6</td>\n",
       "    </tr>\n",
       "    <tr>\n",
       "      <th>78</th>\n",
       "      <td>Marit Bjrgen</td>\n",
       "      <td>2010 Winter</td>\n",
       "      <td>5</td>\n",
       "    </tr>\n",
       "    <tr>\n",
       "      <th>2</th>\n",
       "      <td>Michael Fred Phelps, II</td>\n",
       "      <td>2008 Summer</td>\n",
       "      <td>8</td>\n",
       "    </tr>\n",
       "    <tr>\n",
       "      <th>84</th>\n",
       "      <td>Cynthia Nicole \"Cindy\" Klassen</td>\n",
       "      <td>2006 Winter</td>\n",
       "      <td>5</td>\n",
       "    </tr>\n",
       "    <tr>\n",
       "      <th>1</th>\n",
       "      <td>Michael Fred Phelps, II</td>\n",
       "      <td>2004 Summer</td>\n",
       "      <td>8</td>\n",
       "    </tr>\n",
       "    <tr>\n",
       "      <th>79</th>\n",
       "      <td>Yang Yang</td>\n",
       "      <td>2002 Winter</td>\n",
       "      <td>5</td>\n",
       "    </tr>\n",
       "    <tr>\n",
       "      <th>22</th>\n",
       "      <td>Aleksey Yuryevich Nemov</td>\n",
       "      <td>2000 Summer</td>\n",
       "      <td>6</td>\n",
       "    </tr>\n",
       "    <tr>\n",
       "      <th>74</th>\n",
       "      <td>Larisa Yevgenyevna Lazutina (Ptitsyna-)</td>\n",
       "      <td>1998 Winter</td>\n",
       "      <td>5</td>\n",
       "    </tr>\n",
       "  </tbody>\n",
       "</table>\n",
       "</div>"
      ],
      "text/plain": [
       "                               Athlete Name        Games Medal\n",
       "12                  Michael Fred Phelps, II  2016 Summer     6\n",
       "87                Irene Karlijn \"Ireen\" Wst  2014 Winter     5\n",
       "13                  Michael Fred Phelps, II  2012 Summer     6\n",
       "78                             Marit Bjrgen  2010 Winter     5\n",
       "2                   Michael Fred Phelps, II  2008 Summer     8\n",
       "84           Cynthia Nicole \"Cindy\" Klassen  2006 Winter     5\n",
       "1                   Michael Fred Phelps, II  2004 Summer     8\n",
       "79                                Yang Yang  2002 Winter     5\n",
       "22                  Aleksey Yuryevich Nemov  2000 Summer     6\n",
       "74  Larisa Yevgenyevna Lazutina (Ptitsyna-)  1998 Winter     5"
      ]
     },
     "execution_count": 37,
     "metadata": {},
     "output_type": "execute_result"
    }
   ],
   "source": [
    "df1.sort_values('Games', ascending = False).head(10)"
   ]
  },
  {
   "cell_type": "markdown",
   "id": "d25e4302",
   "metadata": {},
   "source": [
    "[Go to Top](#top)\n",
    "<a class=\"anchor\" id=\"athletes\"></a>\n",
    "## Athlete Demographics\n",
    "\n",
    "As discussed previously, I left the null values in the 3 numeric values in this dataset (Height, Weight, and Age) since I will be working with aggregate values and I can get meaningful data even with some holes.\n",
    "\n",
    "I am particularly interested in how athletes from different sports differ in their general body composition.\n",
    "\n",
    "I also want to see how gender is represented in the Olympics."
   ]
  },
  {
   "cell_type": "markdown",
   "id": "5aaa5263",
   "metadata": {},
   "source": [
    "<a class=\"anchor\" id=\"height\"></a>\n",
    "### Height"
   ]
  },
  {
   "cell_type": "markdown",
   "id": "77df68a5",
   "metadata": {},
   "source": [
    "The shortest athlete is a tie between a female gymnast from the 1968 Mexican team and a male boxer from the 1988 Malawian team. They were both 127cm (4ft 2in)."
   ]
  },
  {
   "cell_type": "code",
   "execution_count": 38,
   "id": "f4d08454",
   "metadata": {},
   "outputs": [
    {
     "data": {
      "text/html": [
       "<div>\n",
       "<style scoped>\n",
       "    .dataframe tbody tr th:only-of-type {\n",
       "        vertical-align: middle;\n",
       "    }\n",
       "\n",
       "    .dataframe tbody tr th {\n",
       "        vertical-align: top;\n",
       "    }\n",
       "\n",
       "    .dataframe thead th {\n",
       "        text-align: right;\n",
       "    }\n",
       "</style>\n",
       "<table border=\"1\" class=\"dataframe\">\n",
       "  <thead>\n",
       "    <tr style=\"text-align: right;\">\n",
       "      <th></th>\n",
       "      <th>Athlete Name</th>\n",
       "      <th>Sex</th>\n",
       "      <th>Age</th>\n",
       "      <th>Height</th>\n",
       "      <th>Weight</th>\n",
       "      <th>Team</th>\n",
       "      <th>NOC</th>\n",
       "      <th>Games</th>\n",
       "      <th>Year</th>\n",
       "      <th>Season</th>\n",
       "      <th>City</th>\n",
       "      <th>Sport</th>\n",
       "      <th>Event</th>\n",
       "      <th>Medal</th>\n",
       "      <th>Country</th>\n",
       "    </tr>\n",
       "  </thead>\n",
       "  <tbody>\n",
       "    <tr>\n",
       "      <th>29333</th>\n",
       "      <td>Rosario Briones</td>\n",
       "      <td>F</td>\n",
       "      <td>15.0</td>\n",
       "      <td>127.0</td>\n",
       "      <td>42.0</td>\n",
       "      <td>Mexico</td>\n",
       "      <td>MEX</td>\n",
       "      <td>1968 Summer</td>\n",
       "      <td>1968</td>\n",
       "      <td>Summer</td>\n",
       "      <td>Mexico City</td>\n",
       "      <td>Gymnastics</td>\n",
       "      <td>Gymnastics Women's Individual All-Around</td>\n",
       "      <td>None</td>\n",
       "      <td>Mexico</td>\n",
       "    </tr>\n",
       "    <tr>\n",
       "      <th>29334</th>\n",
       "      <td>Rosario Briones</td>\n",
       "      <td>F</td>\n",
       "      <td>15.0</td>\n",
       "      <td>127.0</td>\n",
       "      <td>42.0</td>\n",
       "      <td>Mexico</td>\n",
       "      <td>MEX</td>\n",
       "      <td>1968 Summer</td>\n",
       "      <td>1968</td>\n",
       "      <td>Summer</td>\n",
       "      <td>Mexico City</td>\n",
       "      <td>Gymnastics</td>\n",
       "      <td>Gymnastics Women's Team All-Around</td>\n",
       "      <td>None</td>\n",
       "      <td>Mexico</td>\n",
       "    </tr>\n",
       "    <tr>\n",
       "      <th>29335</th>\n",
       "      <td>Rosario Briones</td>\n",
       "      <td>F</td>\n",
       "      <td>15.0</td>\n",
       "      <td>127.0</td>\n",
       "      <td>42.0</td>\n",
       "      <td>Mexico</td>\n",
       "      <td>MEX</td>\n",
       "      <td>1968 Summer</td>\n",
       "      <td>1968</td>\n",
       "      <td>Summer</td>\n",
       "      <td>Mexico City</td>\n",
       "      <td>Gymnastics</td>\n",
       "      <td>Gymnastics Women's Floor Exercise</td>\n",
       "      <td>None</td>\n",
       "      <td>Mexico</td>\n",
       "    </tr>\n",
       "    <tr>\n",
       "      <th>29336</th>\n",
       "      <td>Rosario Briones</td>\n",
       "      <td>F</td>\n",
       "      <td>15.0</td>\n",
       "      <td>127.0</td>\n",
       "      <td>42.0</td>\n",
       "      <td>Mexico</td>\n",
       "      <td>MEX</td>\n",
       "      <td>1968 Summer</td>\n",
       "      <td>1968</td>\n",
       "      <td>Summer</td>\n",
       "      <td>Mexico City</td>\n",
       "      <td>Gymnastics</td>\n",
       "      <td>Gymnastics Women's Horse Vault</td>\n",
       "      <td>None</td>\n",
       "      <td>Mexico</td>\n",
       "    </tr>\n",
       "    <tr>\n",
       "      <th>29337</th>\n",
       "      <td>Rosario Briones</td>\n",
       "      <td>F</td>\n",
       "      <td>15.0</td>\n",
       "      <td>127.0</td>\n",
       "      <td>42.0</td>\n",
       "      <td>Mexico</td>\n",
       "      <td>MEX</td>\n",
       "      <td>1968 Summer</td>\n",
       "      <td>1968</td>\n",
       "      <td>Summer</td>\n",
       "      <td>Mexico City</td>\n",
       "      <td>Gymnastics</td>\n",
       "      <td>Gymnastics Women's Uneven Bars</td>\n",
       "      <td>None</td>\n",
       "      <td>Mexico</td>\n",
       "    </tr>\n",
       "    <tr>\n",
       "      <th>29338</th>\n",
       "      <td>Rosario Briones</td>\n",
       "      <td>F</td>\n",
       "      <td>15.0</td>\n",
       "      <td>127.0</td>\n",
       "      <td>42.0</td>\n",
       "      <td>Mexico</td>\n",
       "      <td>MEX</td>\n",
       "      <td>1968 Summer</td>\n",
       "      <td>1968</td>\n",
       "      <td>Summer</td>\n",
       "      <td>Mexico City</td>\n",
       "      <td>Gymnastics</td>\n",
       "      <td>Gymnastics Women's Balance Beam</td>\n",
       "      <td>None</td>\n",
       "      <td>Mexico</td>\n",
       "    </tr>\n",
       "    <tr>\n",
       "      <th>164821</th>\n",
       "      <td>Lyton Levison Mphande</td>\n",
       "      <td>M</td>\n",
       "      <td>25.0</td>\n",
       "      <td>127.0</td>\n",
       "      <td>62.0</td>\n",
       "      <td>Malawi</td>\n",
       "      <td>MAW</td>\n",
       "      <td>1988 Summer</td>\n",
       "      <td>1988</td>\n",
       "      <td>Summer</td>\n",
       "      <td>Seoul</td>\n",
       "      <td>Boxing</td>\n",
       "      <td>Boxing Men's Light-Welterweight</td>\n",
       "      <td>None</td>\n",
       "      <td>Malawi</td>\n",
       "    </tr>\n",
       "  </tbody>\n",
       "</table>\n",
       "</div>"
      ],
      "text/plain": [
       "                 Athlete Name Sex   Age  Height  Weight    Team  NOC  \\\n",
       "29333         Rosario Briones   F  15.0   127.0    42.0  Mexico  MEX   \n",
       "29334         Rosario Briones   F  15.0   127.0    42.0  Mexico  MEX   \n",
       "29335         Rosario Briones   F  15.0   127.0    42.0  Mexico  MEX   \n",
       "29336         Rosario Briones   F  15.0   127.0    42.0  Mexico  MEX   \n",
       "29337         Rosario Briones   F  15.0   127.0    42.0  Mexico  MEX   \n",
       "29338         Rosario Briones   F  15.0   127.0    42.0  Mexico  MEX   \n",
       "164821  Lyton Levison Mphande   M  25.0   127.0    62.0  Malawi  MAW   \n",
       "\n",
       "              Games  Year  Season         City       Sport  \\\n",
       "29333   1968 Summer  1968  Summer  Mexico City  Gymnastics   \n",
       "29334   1968 Summer  1968  Summer  Mexico City  Gymnastics   \n",
       "29335   1968 Summer  1968  Summer  Mexico City  Gymnastics   \n",
       "29336   1968 Summer  1968  Summer  Mexico City  Gymnastics   \n",
       "29337   1968 Summer  1968  Summer  Mexico City  Gymnastics   \n",
       "29338   1968 Summer  1968  Summer  Mexico City  Gymnastics   \n",
       "164821  1988 Summer  1988  Summer        Seoul      Boxing   \n",
       "\n",
       "                                           Event Medal Country  \n",
       "29333   Gymnastics Women's Individual All-Around  None  Mexico  \n",
       "29334         Gymnastics Women's Team All-Around  None  Mexico  \n",
       "29335          Gymnastics Women's Floor Exercise  None  Mexico  \n",
       "29336             Gymnastics Women's Horse Vault  None  Mexico  \n",
       "29337             Gymnastics Women's Uneven Bars  None  Mexico  \n",
       "29338            Gymnastics Women's Balance Beam  None  Mexico  \n",
       "164821           Boxing Men's Light-Welterweight  None  Malawi  "
      ]
     },
     "execution_count": 38,
     "metadata": {},
     "output_type": "execute_result"
    }
   ],
   "source": [
    "df.loc[df['Height'] == df['Height'].min()]"
   ]
  },
  {
   "cell_type": "markdown",
   "id": "ef6aea9e",
   "metadata": {},
   "source": [
    "The tallest athlete was the Chinese basketball player Yao Ming, who was a famous NBA star and played for the Chinese Olympic Team from 2000 to 2008. He was 226cm (7ft 5in)."
   ]
  },
  {
   "cell_type": "code",
   "execution_count": 39,
   "id": "4845e581",
   "metadata": {},
   "outputs": [
    {
     "data": {
      "text/html": [
       "<div>\n",
       "<style scoped>\n",
       "    .dataframe tbody tr th:only-of-type {\n",
       "        vertical-align: middle;\n",
       "    }\n",
       "\n",
       "    .dataframe tbody tr th {\n",
       "        vertical-align: top;\n",
       "    }\n",
       "\n",
       "    .dataframe thead th {\n",
       "        text-align: right;\n",
       "    }\n",
       "</style>\n",
       "<table border=\"1\" class=\"dataframe\">\n",
       "  <thead>\n",
       "    <tr style=\"text-align: right;\">\n",
       "      <th></th>\n",
       "      <th>Athlete Name</th>\n",
       "      <th>Sex</th>\n",
       "      <th>Age</th>\n",
       "      <th>Height</th>\n",
       "      <th>Weight</th>\n",
       "      <th>Team</th>\n",
       "      <th>NOC</th>\n",
       "      <th>Games</th>\n",
       "      <th>Year</th>\n",
       "      <th>Season</th>\n",
       "      <th>City</th>\n",
       "      <th>Sport</th>\n",
       "      <th>Event</th>\n",
       "      <th>Medal</th>\n",
       "      <th>Country</th>\n",
       "    </tr>\n",
       "  </thead>\n",
       "  <tbody>\n",
       "    <tr>\n",
       "      <th>265040</th>\n",
       "      <td>Yao Ming</td>\n",
       "      <td>M</td>\n",
       "      <td>20.0</td>\n",
       "      <td>226.0</td>\n",
       "      <td>141.0</td>\n",
       "      <td>China</td>\n",
       "      <td>CHN</td>\n",
       "      <td>2000 Summer</td>\n",
       "      <td>2000</td>\n",
       "      <td>Summer</td>\n",
       "      <td>Sydney</td>\n",
       "      <td>Basketball</td>\n",
       "      <td>Basketball Men's Basketball</td>\n",
       "      <td>None</td>\n",
       "      <td>China</td>\n",
       "    </tr>\n",
       "    <tr>\n",
       "      <th>265041</th>\n",
       "      <td>Yao Ming</td>\n",
       "      <td>M</td>\n",
       "      <td>23.0</td>\n",
       "      <td>226.0</td>\n",
       "      <td>141.0</td>\n",
       "      <td>China</td>\n",
       "      <td>CHN</td>\n",
       "      <td>2004 Summer</td>\n",
       "      <td>2004</td>\n",
       "      <td>Summer</td>\n",
       "      <td>Athina</td>\n",
       "      <td>Basketball</td>\n",
       "      <td>Basketball Men's Basketball</td>\n",
       "      <td>None</td>\n",
       "      <td>China</td>\n",
       "    </tr>\n",
       "    <tr>\n",
       "      <th>265042</th>\n",
       "      <td>Yao Ming</td>\n",
       "      <td>M</td>\n",
       "      <td>27.0</td>\n",
       "      <td>226.0</td>\n",
       "      <td>141.0</td>\n",
       "      <td>China</td>\n",
       "      <td>CHN</td>\n",
       "      <td>2008 Summer</td>\n",
       "      <td>2008</td>\n",
       "      <td>Summer</td>\n",
       "      <td>Beijing</td>\n",
       "      <td>Basketball</td>\n",
       "      <td>Basketball Men's Basketball</td>\n",
       "      <td>None</td>\n",
       "      <td>China</td>\n",
       "    </tr>\n",
       "  </tbody>\n",
       "</table>\n",
       "</div>"
      ],
      "text/plain": [
       "       Athlete Name Sex   Age  Height  Weight   Team  NOC        Games  Year  \\\n",
       "265040     Yao Ming   M  20.0   226.0   141.0  China  CHN  2000 Summer  2000   \n",
       "265041     Yao Ming   M  23.0   226.0   141.0  China  CHN  2004 Summer  2004   \n",
       "265042     Yao Ming   M  27.0   226.0   141.0  China  CHN  2008 Summer  2008   \n",
       "\n",
       "        Season     City       Sport                        Event Medal Country  \n",
       "265040  Summer   Sydney  Basketball  Basketball Men's Basketball  None   China  \n",
       "265041  Summer   Athina  Basketball  Basketball Men's Basketball  None   China  \n",
       "265042  Summer  Beijing  Basketball  Basketball Men's Basketball  None   China  "
      ]
     },
     "execution_count": 39,
     "metadata": {},
     "output_type": "execute_result"
    }
   ],
   "source": [
    "df.loc[df['Height'] == df['Height'].max()]"
   ]
  },
  {
   "cell_type": "code",
   "execution_count": 40,
   "id": "d3e0ccfb",
   "metadata": {},
   "outputs": [
    {
     "data": {
      "image/png": "[encoded data removed]",
      "text/plain": [
       "<Figure size 432x288 with 1 Axes>"
      ]
     },
     "metadata": {
      "needs_background": "light"
     },
     "output_type": "display_data"
    }
   ],
   "source": [
    "x = df['Height'].values\n",
    "plt.figure(figsize = (6,4))\n",
    "plt.hist(x, bins = 30, range = (140,210))\n",
    "plt.xlabel('Height(cm)')\n",
    "plt.ylabel('Athletes')\n",
    "plt.title('Athlete Height (All Sports)')\n",
    "plt.show()"
   ]
  },
  {
   "cell_type": "markdown",
   "id": "88c4d084",
   "metadata": {},
   "source": [
    "The sports with the **tallest** average athletes are\n",
    "* Basketball\n",
    "* Volleyball\n",
    "* Beach Volleyball\n",
    "* Water Polo\n",
    "* Rowing"
   ]
  },
  {
   "cell_type": "code",
   "execution_count": 41,
   "id": "668d880e",
   "metadata": {},
   "outputs": [
    {
     "data": {
      "text/plain": [
       "Sport\n",
       "Basketball          190.869879\n",
       "Volleyball          186.994822\n",
       "Beach Volleyball    186.144954\n",
       "Water Polo          184.834648\n",
       "Rowing              184.172222\n",
       "Name: Height, dtype: float64"
      ]
     },
     "execution_count": 41,
     "metadata": {},
     "output_type": "execute_result"
    }
   ],
   "source": [
    "df.groupby('Sport')['Height'].mean().dropna().sort_values(ascending = False).head()"
   ]
  },
  {
   "cell_type": "markdown",
   "id": "eece2f8e",
   "metadata": {},
   "source": [
    "The sports with the **shortest** average athletes are \n",
    "* Gymnastics\n",
    "* Trampolining\n",
    "* Diving\n",
    "* Weightlifting\n",
    "* Rhymthmic Gymnastics"
   ]
  },
  {
   "cell_type": "code",
   "execution_count": 42,
   "id": "b1b68a00",
   "metadata": {},
   "outputs": [
    {
     "data": {
      "text/plain": [
       "Sport\n",
       "Rhythmic Gymnastics    167.870253\n",
       "Weightlifting          167.824801\n",
       "Diving                 166.634264\n",
       "Trampolining           166.582781\n",
       "Gymnastics             162.936020\n",
       "Name: Height, dtype: float64"
      ]
     },
     "execution_count": 42,
     "metadata": {},
     "output_type": "execute_result"
    }
   ],
   "source": [
    "df.groupby('Sport')['Height'].mean().dropna().sort_values(ascending = False).tail()"
   ]
  },
  {
   "cell_type": "code",
   "execution_count": 43,
   "id": "d5ddb047",
   "metadata": {},
   "outputs": [
    {
     "data": {
      "text/plain": [
       "Text(0.5, 1.0, 'Heights of Gymnastics vs Basketball Athletes')"
      ]
     },
     "execution_count": 43,
     "metadata": {},
     "output_type": "execute_result"
    },
    {
     "data": {
      "image/png": "[encoded data removed]",
      "text/plain": [
       "<Figure size 432x288 with 1 Axes>"
      ]
     },
     "metadata": {
      "needs_background": "light"
     },
     "output_type": "display_data"
    }
   ],
   "source": [
    "gymnastics_height = df[df['Sport'] == 'Gymnastics']['Height'].values\n",
    "basketball_height = df[df['Sport'] == 'Basketball']['Height'].values\n",
    "\n",
    "plt.hist(gymnastics_height, label = 'Gymnastics', color = 'purple', alpha = 0.5)\n",
    "plt.hist(basketball_height, label = 'Basketball', color = 'orange', alpha = 0.5)\n",
    "plt.legend()\n",
    "plt.title('Heights of Gymnastics vs Basketball Athletes')"
   ]
  },
  {
   "cell_type": "markdown",
   "id": "159a9a9b",
   "metadata": {},
   "source": [
    "<a class=\"anchor\" id=\"weight\"></a>\n",
    "### Weight"
   ]
  },
  {
   "cell_type": "code",
   "execution_count": 44,
   "id": "c50efb2d",
   "metadata": {},
   "outputs": [
    {
     "data": {
      "image/png": "[encoded data removed]",
      "text/plain": [
       "<Figure size 1008x432 with 1 Axes>"
      ]
     },
     "metadata": {
      "needs_background": "light"
     },
     "output_type": "display_data"
    }
   ],
   "source": [
    "\n",
    "# Variables for bar plots\n",
    "heaviest = df.groupby('Sport').mean()['Weight'].dropna().sort_values(ascending = False).head(10)\n",
    "lightest = df.groupby('Sport').mean()['Weight'].dropna().sort_values(ascending = False).tail(10)\n",
    "\n",
    "x_heavy = heaviest.index\n",
    "x_light = lightest.index\n",
    "y_heavy = heaviest.values\n",
    "y_light = lightest.values\n",
    "\n",
    "\n",
    "plt.figure(figsize = (14,6))\n",
    "plt.bar(x_heavy, y_heavy, label = 'Heaviest', color = 'midnightblue')\n",
    "plt.bar(x_light, y_light, label = 'Lightest', color = 'powderblue')\n",
    "plt.suptitle('Average Weights of Athletes By Sport', fontsize = 30)\n",
    "plt.title('Shows the top and bottom 10 sports in ranked order of average weight', fontsize = 20)\n",
    "plt.xticks(rotation = 60, fontsize = 10)\n",
    "plt.xlabel('Sport')\n",
    "plt.ylabel('Weight (kg)')\n",
    "plt.legend()\n",
    "plt.tight_layout()\n",
    "plt.show()"
   ]
  },
  {
   "cell_type": "markdown",
   "id": "3a79db29",
   "metadata": {},
   "source": [
    "<a class=\"anchor\" id=\"gender\"></a>\n",
    "### Gender"
   ]
  },
  {
   "cell_type": "code",
   "execution_count": 45,
   "id": "90c4bd26",
   "metadata": {
    "collapsed": true
   },
   "outputs": [
    {
     "name": "stderr",
     "output_type": "stream",
     "text": [
      "C:\\Users\\tbert\\AppData\\Local\\Temp\\ipykernel_17628\\3099484017.py:4: SettingWithCopyWarning: \n",
      "A value is trying to be set on a copy of a slice from a DataFrame.\n",
      "Try using .loc[row_indexer,col_indexer] = value instead\n",
      "\n",
      "See the caveats in the documentation: https://pandas.pydata.org/pandas-docs/stable/user_guide/indexing.html#returning-a-view-versus-a-copy\n",
      "  women[['Year', 'Season']] = women['Games'].str.split(' ', expand = True)\n",
      "C:\\Users\\tbert\\AppData\\Local\\Temp\\ipykernel_17628\\3099484017.py:4: SettingWithCopyWarning: \n",
      "A value is trying to be set on a copy of a slice from a DataFrame.\n",
      "Try using .loc[row_indexer,col_indexer] = value instead\n",
      "\n",
      "See the caveats in the documentation: https://pandas.pydata.org/pandas-docs/stable/user_guide/indexing.html#returning-a-view-versus-a-copy\n",
      "  women[['Year', 'Season']] = women['Games'].str.split(' ', expand = True)\n",
      "C:\\Users\\tbert\\AppData\\Local\\Temp\\ipykernel_17628\\3099484017.py:6: SettingWithCopyWarning: \n",
      "A value is trying to be set on a copy of a slice from a DataFrame.\n",
      "Try using .loc[row_indexer,col_indexer] = value instead\n",
      "\n",
      "See the caveats in the documentation: https://pandas.pydata.org/pandas-docs/stable/user_guide/indexing.html#returning-a-view-versus-a-copy\n",
      "  men[['Year', 'Season']] = men['Games'].str.split(' ', expand = True)\n",
      "C:\\Users\\tbert\\AppData\\Local\\Temp\\ipykernel_17628\\3099484017.py:6: SettingWithCopyWarning: \n",
      "A value is trying to be set on a copy of a slice from a DataFrame.\n",
      "Try using .loc[row_indexer,col_indexer] = value instead\n",
      "\n",
      "See the caveats in the documentation: https://pandas.pydata.org/pandas-docs/stable/user_guide/indexing.html#returning-a-view-versus-a-copy\n",
      "  men[['Year', 'Season']] = men['Games'].str.split(' ', expand = True)\n"
     ]
    }
   ],
   "source": [
    "table = df.pivot_table(values = 'Athlete Name', index = ['Sex', 'Games'], aggfunc = 'count').reset_index()\n",
    "\n",
    "women = table[table['Sex'] == 'F']\n",
    "women[['Year', 'Season']] = women['Games'].str.split(' ', expand = True)\n",
    "men = table[table['Sex'] == 'M']\n",
    "men[['Year', 'Season']] = men['Games'].str.split(' ', expand = True)\n",
    "\n",
    "women_summer = women[women['Season'] == 'Summer']\n",
    "women_winter = women[women['Season'] == 'Winter']\n",
    "men_summer = men[men['Season'] == 'Summer']\n",
    "men_winter = men[men['Season'] == 'Winter']"
   ]
  },
  {
   "cell_type": "code",
   "execution_count": 46,
   "id": "2201353f",
   "metadata": {},
   "outputs": [
    {
     "data": {
      "image/png": "[encoded data removed]",
      "text/plain": [
       "<Figure size 1008x432 with 2 Axes>"
      ]
     },
     "metadata": {
      "needs_background": "light"
     },
     "output_type": "display_data"
    }
   ],
   "source": [
    "plt.figure(figsize = (14,6))\n",
    "plt.suptitle('Gender Distribution Of Athletes', fontsize = 30)\n",
    "\n",
    "plt.subplot(1,2,1)\n",
    "plt.plot(men_summer['Year'].values, men_summer['Athlete Name'].values, color = 'firebrick', label = 'Men')\n",
    "plt.plot(women_summer['Year'].values, women_summer['Athlete Name'].values, color = 'lightcoral', label = 'Women')\n",
    "plt.legend(loc = 'lower right')\n",
    "plt.xticks(rotation = 70)\n",
    "plt.title('Summer Games', fontsize = 20)\n",
    "\n",
    "plt.subplot(1,2,2)\n",
    "plt.plot(men_winter['Year'].values, men_winter['Athlete Name'].values, color = 'darkblue', label = 'Men')\n",
    "plt.plot(women_winter['Year'].values, women_winter['Athlete Name'].values, color = 'lightskyblue', label = 'Women')\n",
    "plt.legend(loc = 'lower right')\n",
    "plt.xticks(rotation = 70)\n",
    "plt.title('Winter Games', fontsize = 20)\n",
    "\n",
    "plt.tight_layout()\n",
    "plt.show()"
   ]
  }
 ],
 "metadata": {
  "kernelspec": {
   "display_name": "Python 3 (ipykernel)",
   "language": "python",
   "name": "python3"
  },
  "language_info": {
   "codemirror_mode": {
    "name": "ipython",
    "version": 3
   },
   "file_extension": ".py",
   "mimetype": "text/x-python",
   "name": "python",
   "nbconvert_exporter": "python",
   "pygments_lexer": "ipython3",
   "version": "3.9.12"
  }
 },
 "nbformat": 4,
 "nbformat_minor": 5
}
