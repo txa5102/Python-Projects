{
 "cells": [
  {
   "cell_type": "markdown",
   "id": "e4056ba3",
   "metadata": {},
   "source": [
    "# TV Shows on Streaming Services"
   ]
  },
  {
   "cell_type": "markdown",
   "id": "1f4f07ca",
   "metadata": {},
   "source": [
    "<a class=\"anchor\" id=\"top\"></a>\n",
    "\n",
    "1. [Introduction](#intro)\n",
    "2. [The Data](#data) <br>\n",
    "    2.1 [Cleaning and Exploration](#cleaning) <br>\n",
    "3. [Analysis](#analysis) <br>\n",
    "    3.1 [Release Dates](#release) <br>\n",
    "    3.2 [Age Demographics](#age) <br>\n",
    "    3.3 [Rotten Tomatoes Scores](#rt) <br>\n",
    "4. [Conclusion](#conclusion)"
   ]
  },
  {
   "cell_type": "markdown",
   "id": "cd7788e8",
   "metadata": {},
   "source": [
    "[Back to Top](#top)\n",
    "<a class=\"anchor\" id=\"intro\"></a>\n",
    "\n",
    "## Introduction\n",
    "\n",
    "\"The Streaming Wars\" is the name for the constant back and forth battle of content providers to draw subscribers to their respective streaming services, avialible for a monthly fee with no cable required. There are seemingly an endless number of services, and the content avaliable on them is constantly in flux as contracts end, corporations merge, and user demand ebbs/flows. Some services focus on a niche genre to draw a small but devoted fan base willing to pay for a monthly subscription (Crunchyroll for anime fans, ESPN+ for sports fans, and many many more). Other services are going for broad appeal and try to have content aimed at all audiences. In 2022, there are four services (Netflix, Disney+, Prime Video, Hulu) that stand above the rest in subscriber count and cultural significance, and understanding the content avaliable on these sites is helpful in findinglarger trends in consumer patterns for cord cutters around the world.\n",
    "\n",
    "#### The Streaming Sites\n",
    "1. **Netflix**- launched as a DVD rental service through the mail in 1997 before pivoting to becoming exclusively a streaming site with 220 million users in 2022.\n",
    "2. **Hulu**- launched in 2007 primaily as a service for streaming ABC, Freeform, and FX network shows. Disney aquired a majority stake in Hulu in 2019, and its current user base in 2022 is 46 million users\n",
    "3. **Prime Video**- Amazon's streaming service offered to all 200 million Amazon Prime subscribers, and primarily shows original content\n",
    "4. **Disney+**- The most recent streaming service, launched in 2019. It houses Disney orifinal shows/movies, including franchises owned by Walt Disney Studios such as Marvel, Star Wars, and Pixar. It has approximately 150 million users in 2022.\n",
    "\n",
    "\n",
    "[Back to Top](#top)\n",
    "<a class=\"anchor\" id=\"data\"></a>\n",
    "## The Data\n",
    "\n",
    "\n",
    "#### Data source\n",
    "The data used in this analysis is sourced from [kaggle.com](#https://www.kaggle.com/datasets/ruchi798/tv-shows-on-netflix-prime-video-hulu-and-disney), and is the result of a internet data scrape of the TV shows avaliable on the 4 major streaming services as of 2021. Every entry in the dataset is present on at least one site, but some shows may be avaliable on multiple sites.\n",
    "\n",
    "####  Columns\n",
    "* **ID**: Unique movie/TV show ID\n",
    "* **Title**: Title\n",
    "* **Year**: The year in which the movie or TV show was produced\n",
    "* **Age**: Target age group\n",
    "* **IMDb**: IMDb score\n",
    "* **Rotten Tomatoes**: Rotten Tomatoes score\n",
    "* **Netflix**: Whether the movie/show is found on Netflix\n",
    "* **Hulu**: Whether the movie/show is found on Hulu\n",
    "* **Prime Video**: Whether the movie/show is found on Prime Video\n",
    "* **Disney+**: Whether the movie/show is found on Disney+\n",
    "* **Type**: Movie or TV shpw (0 for movie, 1 for TV show)\n",
    "\n"
   ]
  },
  {
   "cell_type": "markdown",
   "id": "49032f8b",
   "metadata": {},
   "source": [
    "<a class=\"anchor\" id=\"cleaning\"></a>\n",
    "### Cleaning and Exploration"
   ]
  },
  {
   "cell_type": "code",
   "execution_count": 1,
   "id": "9efa3ede",
   "metadata": {},
   "outputs": [],
   "source": [
    "# Import libraries\n",
    "import pandas as pd\n",
    "import numpy as np\n",
    "import matplotlib.pyplot as plt\n",
    "import datetime as dt"
   ]
  },
  {
   "cell_type": "markdown",
   "id": "7cc58abd",
   "metadata": {},
   "source": [
    "We'll import the data into a drataframe, and preview the first/last 5 rows"
   ]
  },
  {
   "cell_type": "code",
   "execution_count": 2,
   "id": "17b77bf9",
   "metadata": {},
   "outputs": [
    {
     "data": {
      "text/html": [
       "<div>\n",
       "<style scoped>\n",
       "    .dataframe tbody tr th:only-of-type {\n",
       "        vertical-align: middle;\n",
       "    }\n",
       "\n",
       "    .dataframe tbody tr th {\n",
       "        vertical-align: top;\n",
       "    }\n",
       "\n",
       "    .dataframe thead th {\n",
       "        text-align: right;\n",
       "    }\n",
       "</style>\n",
       "<table border=\"1\" class=\"dataframe\">\n",
       "  <thead>\n",
       "    <tr style=\"text-align: right;\">\n",
       "      <th></th>\n",
       "      <th>ID</th>\n",
       "      <th>Title</th>\n",
       "      <th>Year</th>\n",
       "      <th>Age</th>\n",
       "      <th>IMDb</th>\n",
       "      <th>Rotten Tomatoes</th>\n",
       "      <th>Netflix</th>\n",
       "      <th>Hulu</th>\n",
       "      <th>Prime Video</th>\n",
       "      <th>Disney+</th>\n",
       "      <th>Type</th>\n",
       "    </tr>\n",
       "  </thead>\n",
       "  <tbody>\n",
       "    <tr>\n",
       "      <th>0</th>\n",
       "      <td>1</td>\n",
       "      <td>Breaking Bad</td>\n",
       "      <td>2008</td>\n",
       "      <td>18+</td>\n",
       "      <td>9.4/10</td>\n",
       "      <td>100/100</td>\n",
       "      <td>1</td>\n",
       "      <td>0</td>\n",
       "      <td>0</td>\n",
       "      <td>0</td>\n",
       "      <td>1</td>\n",
       "    </tr>\n",
       "    <tr>\n",
       "      <th>1</th>\n",
       "      <td>2</td>\n",
       "      <td>Stranger Things</td>\n",
       "      <td>2016</td>\n",
       "      <td>16+</td>\n",
       "      <td>8.7/10</td>\n",
       "      <td>96/100</td>\n",
       "      <td>1</td>\n",
       "      <td>0</td>\n",
       "      <td>0</td>\n",
       "      <td>0</td>\n",
       "      <td>1</td>\n",
       "    </tr>\n",
       "    <tr>\n",
       "      <th>2</th>\n",
       "      <td>3</td>\n",
       "      <td>Attack on Titan</td>\n",
       "      <td>2013</td>\n",
       "      <td>18+</td>\n",
       "      <td>9.0/10</td>\n",
       "      <td>95/100</td>\n",
       "      <td>1</td>\n",
       "      <td>1</td>\n",
       "      <td>0</td>\n",
       "      <td>0</td>\n",
       "      <td>1</td>\n",
       "    </tr>\n",
       "    <tr>\n",
       "      <th>3</th>\n",
       "      <td>4</td>\n",
       "      <td>Better Call Saul</td>\n",
       "      <td>2015</td>\n",
       "      <td>18+</td>\n",
       "      <td>8.8/10</td>\n",
       "      <td>94/100</td>\n",
       "      <td>1</td>\n",
       "      <td>0</td>\n",
       "      <td>0</td>\n",
       "      <td>0</td>\n",
       "      <td>1</td>\n",
       "    </tr>\n",
       "    <tr>\n",
       "      <th>4</th>\n",
       "      <td>5</td>\n",
       "      <td>Dark</td>\n",
       "      <td>2017</td>\n",
       "      <td>16+</td>\n",
       "      <td>8.8/10</td>\n",
       "      <td>93/100</td>\n",
       "      <td>1</td>\n",
       "      <td>0</td>\n",
       "      <td>0</td>\n",
       "      <td>0</td>\n",
       "      <td>1</td>\n",
       "    </tr>\n",
       "    <tr>\n",
       "      <th>...</th>\n",
       "      <td>...</td>\n",
       "      <td>...</td>\n",
       "      <td>...</td>\n",
       "      <td>...</td>\n",
       "      <td>...</td>\n",
       "      <td>...</td>\n",
       "      <td>...</td>\n",
       "      <td>...</td>\n",
       "      <td>...</td>\n",
       "      <td>...</td>\n",
       "      <td>...</td>\n",
       "    </tr>\n",
       "    <tr>\n",
       "      <th>5363</th>\n",
       "      <td>5713</td>\n",
       "      <td>Paradise Islands</td>\n",
       "      <td>2017</td>\n",
       "      <td>NaN</td>\n",
       "      <td>NaN</td>\n",
       "      <td>10/100</td>\n",
       "      <td>0</td>\n",
       "      <td>0</td>\n",
       "      <td>0</td>\n",
       "      <td>1</td>\n",
       "      <td>1</td>\n",
       "    </tr>\n",
       "    <tr>\n",
       "      <th>5364</th>\n",
       "      <td>5714</td>\n",
       "      <td>Mexico Untamed</td>\n",
       "      <td>2018</td>\n",
       "      <td>NaN</td>\n",
       "      <td>NaN</td>\n",
       "      <td>10/100</td>\n",
       "      <td>0</td>\n",
       "      <td>0</td>\n",
       "      <td>0</td>\n",
       "      <td>1</td>\n",
       "      <td>1</td>\n",
       "    </tr>\n",
       "    <tr>\n",
       "      <th>5365</th>\n",
       "      <td>5715</td>\n",
       "      <td>Wild Centeral America</td>\n",
       "      <td>2020</td>\n",
       "      <td>NaN</td>\n",
       "      <td>NaN</td>\n",
       "      <td>10/100</td>\n",
       "      <td>0</td>\n",
       "      <td>0</td>\n",
       "      <td>0</td>\n",
       "      <td>1</td>\n",
       "      <td>1</td>\n",
       "    </tr>\n",
       "    <tr>\n",
       "      <th>5366</th>\n",
       "      <td>5716</td>\n",
       "      <td>Wild Russia</td>\n",
       "      <td>2018</td>\n",
       "      <td>NaN</td>\n",
       "      <td>NaN</td>\n",
       "      <td>10/100</td>\n",
       "      <td>0</td>\n",
       "      <td>0</td>\n",
       "      <td>0</td>\n",
       "      <td>1</td>\n",
       "      <td>1</td>\n",
       "    </tr>\n",
       "    <tr>\n",
       "      <th>5367</th>\n",
       "      <td>5717</td>\n",
       "      <td>Fearless Adventures with Jack Randall</td>\n",
       "      <td>2018</td>\n",
       "      <td>NaN</td>\n",
       "      <td>NaN</td>\n",
       "      <td>10/100</td>\n",
       "      <td>0</td>\n",
       "      <td>0</td>\n",
       "      <td>0</td>\n",
       "      <td>1</td>\n",
       "      <td>1</td>\n",
       "    </tr>\n",
       "  </tbody>\n",
       "</table>\n",
       "<p>5368 rows × 11 columns</p>\n",
       "</div>"
      ],
      "text/plain": [
       "        ID                                  Title  Year  Age    IMDb  \\\n",
       "0        1                           Breaking Bad  2008  18+  9.4/10   \n",
       "1        2                        Stranger Things  2016  16+  8.7/10   \n",
       "2        3                        Attack on Titan  2013  18+  9.0/10   \n",
       "3        4                       Better Call Saul  2015  18+  8.8/10   \n",
       "4        5                                   Dark  2017  16+  8.8/10   \n",
       "...    ...                                    ...   ...  ...     ...   \n",
       "5363  5713                       Paradise Islands  2017  NaN     NaN   \n",
       "5364  5714                         Mexico Untamed  2018  NaN     NaN   \n",
       "5365  5715                  Wild Centeral America  2020  NaN     NaN   \n",
       "5366  5716                            Wild Russia  2018  NaN     NaN   \n",
       "5367  5717  Fearless Adventures with Jack Randall  2018  NaN     NaN   \n",
       "\n",
       "     Rotten Tomatoes  Netflix  Hulu  Prime Video  Disney+  Type  \n",
       "0            100/100        1     0            0        0     1  \n",
       "1             96/100        1     0            0        0     1  \n",
       "2             95/100        1     1            0        0     1  \n",
       "3             94/100        1     0            0        0     1  \n",
       "4             93/100        1     0            0        0     1  \n",
       "...              ...      ...   ...          ...      ...   ...  \n",
       "5363          10/100        0     0            0        1     1  \n",
       "5364          10/100        0     0            0        1     1  \n",
       "5365          10/100        0     0            0        1     1  \n",
       "5366          10/100        0     0            0        1     1  \n",
       "5367          10/100        0     0            0        1     1  \n",
       "\n",
       "[5368 rows x 11 columns]"
      ]
     },
     "execution_count": 2,
     "metadata": {},
     "output_type": "execute_result"
    }
   ],
   "source": [
    "# Load data\n",
    "tv = pd.read_csv('tv_shows.csv', index_col = 0)\n",
    "tv"
   ]
  },
  {
   "cell_type": "markdown",
   "id": "4f8224c8",
   "metadata": {},
   "source": [
    "We can see that we have a total of 5368 TV shows, and that we are only missing values in the age and imdb ratings category. "
   ]
  },
  {
   "cell_type": "code",
   "execution_count": 3,
   "id": "1d05e13a",
   "metadata": {
    "scrolled": true
   },
   "outputs": [
    {
     "name": "stdout",
     "output_type": "stream",
     "text": [
      "<class 'pandas.core.frame.DataFrame'>\n",
      "Int64Index: 5368 entries, 0 to 5367\n",
      "Data columns (total 11 columns):\n",
      " #   Column           Non-Null Count  Dtype \n",
      "---  ------           --------------  ----- \n",
      " 0   ID               5368 non-null   int64 \n",
      " 1   Title            5368 non-null   object\n",
      " 2   Year             5368 non-null   int64 \n",
      " 3   Age              3241 non-null   object\n",
      " 4   IMDb             4406 non-null   object\n",
      " 5   Rotten Tomatoes  5368 non-null   object\n",
      " 6   Netflix          5368 non-null   int64 \n",
      " 7   Hulu             5368 non-null   int64 \n",
      " 8   Prime Video      5368 non-null   int64 \n",
      " 9   Disney+          5368 non-null   int64 \n",
      " 10  Type             5368 non-null   int64 \n",
      "dtypes: int64(7), object(4)\n",
      "memory usage: 503.2+ KB\n"
     ]
    }
   ],
   "source": [
    "tv.info()"
   ]
  },
  {
   "cell_type": "markdown",
   "id": "23ff2512",
   "metadata": {},
   "source": [
    "We also can see that totals for each platform. Unsuprisingly, Netflix (the largest streamer by subscribers, and the earliest success story) has the most shows at 1971 while the newest streamer (Disney+) has the fewest shows at 351."
   ]
  },
  {
   "cell_type": "code",
   "execution_count": 43,
   "id": "794e58c9",
   "metadata": {},
   "outputs": [
    {
     "data": {
      "text/plain": [
       "Netflix        1971\n",
       "Prime Video    1831\n",
       "Hulu           1621\n",
       "Disney+         351\n",
       "dtype: int64"
      ]
     },
     "execution_count": 43,
     "metadata": {},
     "output_type": "execute_result"
    }
   ],
   "source": [
    "tv[['Netflix', 'Hulu', 'Prime Video', 'Disney+']].sum(axis=0).sort_values(ascending=False)"
   ]
  },
  {
   "cell_type": "markdown",
   "id": "55e588e6",
   "metadata": {},
   "source": [
    "The Rotten Tomatoes scores and IMDb scores come as a string in the format of \"xx/xx\" (out of 100 for RT and 10 for IMDb). To make these entries into numbers that we can analyze/visualize, we need to convert those strings into just a single number."
   ]
  },
  {
   "cell_type": "code",
   "execution_count": 4,
   "id": "b3276a29",
   "metadata": {},
   "outputs": [],
   "source": [
    "# Convert Rotten Tomatoes and IMDb xx/xx string scores to a single number\n",
    "tv['Rotten Tomatoes'] = tv['Rotten Tomatoes'].str.split('/').str[0].astype('int') \n",
    "tv['IMDb'] = tv['IMDb'].str.split('/').str[0].astype('float')"
   ]
  },
  {
   "cell_type": "markdown",
   "id": "36035a77",
   "metadata": {},
   "source": [
    "Since we'll be making charts for each streaming service, it's helpful to make separate dataframes for all 4 sites at the beginning to simplify the code later on."
   ]
  },
  {
   "cell_type": "code",
   "execution_count": 5,
   "id": "094e3c6a",
   "metadata": {},
   "outputs": [],
   "source": [
    "# Creating dataframes for each streaming service\n",
    "netflix = tv[tv['Netflix'] == 1]\n",
    "disney = tv[tv['Disney+'] == 1]\n",
    "hulu = tv[tv['Hulu'] == 1]\n",
    "prime = tv[tv['Prime Video'] == 1]"
   ]
  },
  {
   "cell_type": "markdown",
   "id": "9bf9f4fc",
   "metadata": {},
   "source": [
    "[Back to Top](#top)\n",
    "<a class=\"anchor\" id=\"analysis\"></a>\n",
    "## 3. Analysis"
   ]
  },
  {
   "cell_type": "markdown",
   "id": "d2aa30f8",
   "metadata": {},
   "source": [
    "<a class=\"anchor\" id=\"release\"></a>\n",
    "### 3.1 Release Years\n",
    "What are the release years of the shows on each platform?\n"
   ]
  },
  {
   "cell_type": "markdown",
   "id": "df090dc4",
   "metadata": {},
   "source": [
    "We can chart the total number of shows released in each year (starting with 2000 for the sake of simplicity/relevance). We can see that 2017 was the peak year with over 500 shows being released, and a slow decline until 2020 before a large drop in 2021 (likely due to shows taking some time to make their way onto streaming services and also COVID reducing the number of new shows in production)."
   ]
  },
  {
   "cell_type": "code",
   "execution_count": 47,
   "id": "5a9c1d76",
   "metadata": {},
   "outputs": [
    {
     "data": {
      "image/png": "[encoded data removed]",
      "text/plain": [
       "<Figure size 864x360 with 1 Axes>"
      ]
     },
     "metadata": {
      "needs_background": "light"
     },
     "output_type": "display_data"
    }
   ],
   "source": [
    "plt.figure(figsize = (12,5))\n",
    "\n",
    "# All releases counted by year\n",
    "total_releases = tv['Year'].value_counts().sort_index()\n",
    "\n",
    "# Create the bar chart\n",
    "plt.bar(x = total_releases.index, height = total_releases.values)\n",
    "plt.xlim(2000, 2021)\n",
    "plt.xticks(list(range(2000,2022)), rotation = 45)\n",
    "plt.xlabel('Year', fontsize = 15)\n",
    "plt.ylabel('Shows Released', fontsize = 15)\n",
    "plt.title('Original Air Date of Streaming TV Shows', fontsize = 30)\n",
    "plt.tight_layout()"
   ]
  },
  {
   "cell_type": "markdown",
   "id": "beae9819",
   "metadata": {},
   "source": [
    "If we want to break down the shows by streaming service, we can create a similar graph for all 4 streamers.\n",
    "\n",
    "We see that in all 4 streamers, they steadily increate the releases until they peak in the late 2010's, and decline until the present day. Netflix, Disney+, and Prime Video have significantly more shows from the late 2010's than they do in the years leading up, while Hulu has a more even distribution of releases from the entirety of the 2010's. \n",
    "\n",
    "Also, Prime Video has the steepest dropoff of newer shows (show's released in the last 5 years) than any of the other streamers."
   ]
  },
  {
   "cell_type": "code",
   "execution_count": 48,
   "id": "56489823",
   "metadata": {},
   "outputs": [],
   "source": [
    "# number of releases per year\n",
    "netflix_releases = netflix['Year'].value_counts().sort_index()\n",
    "disney_releases = disney['Year'].value_counts().sort_index()\n",
    "hulu_releases = hulu['Year'].value_counts().sort_index()\n",
    "prime_releases = prime['Year'].value_counts().sort_index()"
   ]
  },
  {
   "cell_type": "code",
   "execution_count": 33,
   "id": "4df3c2db",
   "metadata": {},
   "outputs": [
    {
     "data": {
      "image/png": "[encoded data removed]",
      "text/plain": [
       "<Figure size 1152x576 with 4 Axes>"
      ]
     },
     "metadata": {
      "needs_background": "light"
     },
     "output_type": "display_data"
    }
   ],
   "source": [
    "# Create figure\n",
    "plt.figure(figsize = (16,8))\n",
    "\n",
    "# x-axis goes from 2000 to 2021\n",
    "custom_ticks = list(range(2000,2022))\n",
    "custom_xlim = (2000,2022)\n",
    "\n",
    "# Netflix plot\n",
    "ax = plt.subplot(2,2,1) # all subplots will share this ones x-axis\n",
    "plt.bar(x = netflix_releases.index, height = netflix_releases.values, color = '#ef3339')\n",
    "plt.title('Netflix', fontsize = 18)\n",
    "plt.xlim(custom_xlim)\n",
    "plt.xticks(custom_ticks, rotation = 45)\n",
    "\n",
    "# Disney Plot\n",
    "plt.subplot(2,2,2, sharex = ax)\n",
    "plt.bar(x = disney_releases.index, height = disney_releases.values, color = '#5079ba')\n",
    "plt.title('Disney', fontsize = 18)\n",
    "plt.xticks(custom_ticks, rotation = 45)\n",
    "\n",
    "#Hulu Plot\n",
    "plt.subplot(2,2,3, sharex = ax)\n",
    "plt.bar(x = hulu_releases.index, height = hulu_releases.values, color = '#39ba5e')\n",
    "plt.title('Hulu', fontsize = 18)\n",
    "plt.xticks(custom_ticks, rotation = 45)\n",
    "\n",
    "# Prime Video Plot\n",
    "plt.subplot(2,2,4, sharex = ax)\n",
    "plt.bar(x = prime_releases.index, height = prime_releases.values, color = '#7a5ea8')\n",
    "plt.title('Prime Video', fontsize = 18)\n",
    "plt.xticks(custom_ticks, rotation = 45)\n",
    "\n",
    "plt.tight_layout()"
   ]
  },
  {
   "cell_type": "markdown",
   "id": "c3b59b66",
   "metadata": {},
   "source": [
    "[Back to Top](#top)\n",
    "<a class=\"anchor\" id=\"age\"></a>\n",
    "### 3.2 Streaming Apps Age Demographics\n",
    "\n",
    "What ages are the shows on each streaming service intended for?"
   ]
  },
  {
   "cell_type": "markdown",
   "id": "ed59ec34",
   "metadata": {},
   "source": [
    "The age demographics of the streaming service can be rated for one of the following age groups:\n",
    "* all\n",
    "* 7+\n",
    "* 13+\n",
    "* 16+\n",
    "* 28+\n",
    "\n",
    "Overall, 16+ is the most common rating, followed by 18+, 7+, all, and 13+.\n",
    "\n",
    "We see that in the entire dataframe, only 9 shows are rated 13+, so we'll drop that rating for the purpose of graphing to decrease clutter."
   ]
  },
  {
   "cell_type": "code",
   "execution_count": 49,
   "id": "52ff3bcc",
   "metadata": {},
   "outputs": [
    {
     "data": {
      "text/plain": [
       "16+    995\n",
       "18+    854\n",
       "7+     831\n",
       "all    552\n",
       "13+      9\n",
       "Name: Age, dtype: int64"
      ]
     },
     "execution_count": 49,
     "metadata": {},
     "output_type": "execute_result"
    }
   ],
   "source": [
    "tv['Age'].value_counts()"
   ]
  },
  {
   "cell_type": "markdown",
   "id": "1649ac13",
   "metadata": {},
   "source": [
    "Perhaps unsurpringly, Disney+ (which dedicates a sizable portin of its library to family friendly content) has the largest share of shows rated all (49% of its total libray). Conversely, Hulu has the least number of family friendly shows, with only 10% of its library rated for all ages.\n",
    "\n",
    "On the other hand, Netflix and Disney+ has the highest share of shows rated for 18+, with 36% and 42% of the library respectively having more mature content only rated for adults."
   ]
  },
  {
   "cell_type": "code",
   "execution_count": 8,
   "id": "8c6ac7f5",
   "metadata": {},
   "outputs": [
    {
     "data": {
      "image/png": "[encoded data removed]",
      "text/plain": [
       "<Figure size 576x576 with 4 Axes>"
      ]
     },
     "metadata": {},
     "output_type": "display_data"
    }
   ],
   "source": [
    "# create age group counts and sort so all charts have the same order\n",
    "netflix_ages = netflix['Age'].value_counts().drop('13+').reindex(['all','7+', '16+', '18+']).values\n",
    "disney_ages = disney['Age'].value_counts().reindex(['all','18+', '16+', '7+']).values\n",
    "hulu_ages = hulu['Age'].value_counts().drop('13+').reindex(['all','18+', '16+', '7+']).values\n",
    "prime_ages = prime['Age'].value_counts().drop('13+').reindex(['all','18+', '16+', '7+']).values\n",
    "\n",
    "# create section labels\n",
    "names = ['all', '7+', '16+', '18+']\n",
    "red_palette = ['#ffd1ca', '#ffa397', '#fc7266', '#ef3339']\n",
    "blue_palette = ['#d5dcee', '#abb9dd', '#8098cb', '#5079ba']\n",
    "green_palette = ['#d3efd6', '#a6dead', '#76cc85', '#39ba5e']\n",
    "purple_palette = ['#ded5e9', '#bdacd3', '#9b84be', '#7a5ea8']\n",
    "\n",
    "\n",
    "# create master plot\n",
    "plt.figure(figsize=(8,8))\n",
    "plt.suptitle('Target Age Groups of TV Shows', fontsize = 30)\n",
    "\n",
    "# netflix plot\n",
    "plt.subplot(2,2,1)\n",
    "plt.pie(netflix_ages, labels = names, autopct = '%1.0f%%', colors = red_palette)\n",
    "plt.title('Netflix', fontsize = 18)\n",
    "\n",
    "# disney plot\n",
    "plt.subplot(2,2,2)\n",
    "plt.pie(disney_ages, labels = names, autopct = '%1.0f%%', colors = blue_palette)\n",
    "plt.title('Disney+', fontsize = 18)\n",
    "\n",
    "# hulu plot\n",
    "plt.subplot(2,2,3)\n",
    "plt.pie(hulu_ages, labels = names, autopct = '%1.0f%%', colors = green_palette)\n",
    "plt.title('Hulu', fontsize = 18)\n",
    "\n",
    "# prime plot\n",
    "plt.subplot(2,2,4)\n",
    "plt.pie(prime_ages, labels = names, autopct = '%1.0f%%', colors = purple_palette)\n",
    "plt.title('Prime Video', fontsize = 18)\n",
    "\n",
    "plt.tight_layout()"
   ]
  },
  {
   "cell_type": "markdown",
   "id": "6895d918",
   "metadata": {},
   "source": [
    "[Back to Top](#top)\n",
    "<a class=\"anchor\" id=\"rt\"></a>\n",
    "### 3.3 Rotten Tomatoes scores\n",
    "\n",
    "What are the Rotten Tomatoes critic scores for each streaming service?"
   ]
  },
  {
   "cell_type": "markdown",
   "id": "d0ed383a",
   "metadata": {},
   "source": [
    "The online film and television site Rotten Tomatoes is commonly used by consumers to determine whether a show is worth investing time into, and therefore the scores (while an imperfect metric) are nonetheless helpful in determining if a streaming service is a good value for a consumer.\n",
    "\n",
    "We see that the average critic score is 47%, with the interquartile faling between 36% and 60%. The lowest score is a 10%, and the highest score of 100% belonging to two shows (Breaking Bad on Netflix and Rick and Morty on Hulu)."
   ]
  },
  {
   "cell_type": "code",
   "execution_count": 62,
   "id": "cff545f3",
   "metadata": {},
   "outputs": [
    {
     "data": {
      "text/plain": [
       "count    5368.000000\n",
       "mean       47.220380\n",
       "std        19.555753\n",
       "min        10.000000\n",
       "25%        36.000000\n",
       "50%        48.000000\n",
       "75%        60.000000\n",
       "max       100.000000\n",
       "Name: Rotten Tomatoes, dtype: float64"
      ]
     },
     "execution_count": 62,
     "metadata": {},
     "output_type": "execute_result"
    }
   ],
   "source": [
    "tv['Rotten Tomatoes'].describe()"
   ]
  },
  {
   "cell_type": "code",
   "execution_count": 63,
   "id": "43958c77",
   "metadata": {},
   "outputs": [
    {
     "data": {
      "text/html": [
       "<div>\n",
       "<style scoped>\n",
       "    .dataframe tbody tr th:only-of-type {\n",
       "        vertical-align: middle;\n",
       "    }\n",
       "\n",
       "    .dataframe tbody tr th {\n",
       "        vertical-align: top;\n",
       "    }\n",
       "\n",
       "    .dataframe thead th {\n",
       "        text-align: right;\n",
       "    }\n",
       "</style>\n",
       "<table border=\"1\" class=\"dataframe\">\n",
       "  <thead>\n",
       "    <tr style=\"text-align: right;\">\n",
       "      <th></th>\n",
       "      <th>ID</th>\n",
       "      <th>Title</th>\n",
       "      <th>Year</th>\n",
       "      <th>Age</th>\n",
       "      <th>IMDb</th>\n",
       "      <th>Rotten Tomatoes</th>\n",
       "      <th>Netflix</th>\n",
       "      <th>Hulu</th>\n",
       "      <th>Prime Video</th>\n",
       "      <th>Disney+</th>\n",
       "      <th>Type</th>\n",
       "    </tr>\n",
       "  </thead>\n",
       "  <tbody>\n",
       "    <tr>\n",
       "      <th>0</th>\n",
       "      <td>1</td>\n",
       "      <td>Breaking Bad</td>\n",
       "      <td>2008</td>\n",
       "      <td>18+</td>\n",
       "      <td>9.4</td>\n",
       "      <td>100</td>\n",
       "      <td>1</td>\n",
       "      <td>0</td>\n",
       "      <td>0</td>\n",
       "      <td>0</td>\n",
       "      <td>1</td>\n",
       "    </tr>\n",
       "    <tr>\n",
       "      <th>1950</th>\n",
       "      <td>1960</td>\n",
       "      <td>Rick and Morty</td>\n",
       "      <td>2013</td>\n",
       "      <td>18+</td>\n",
       "      <td>9.2</td>\n",
       "      <td>100</td>\n",
       "      <td>0</td>\n",
       "      <td>1</td>\n",
       "      <td>0</td>\n",
       "      <td>0</td>\n",
       "      <td>1</td>\n",
       "    </tr>\n",
       "  </tbody>\n",
       "</table>\n",
       "</div>"
      ],
      "text/plain": [
       "        ID           Title  Year  Age  IMDb  Rotten Tomatoes  Netflix  Hulu  \\\n",
       "0        1    Breaking Bad  2008  18+   9.4              100        1     0   \n",
       "1950  1960  Rick and Morty  2013  18+   9.2              100        0     1   \n",
       "\n",
       "      Prime Video  Disney+  Type  \n",
       "0               0        0     1  \n",
       "1950            0        0     1  "
      ]
     },
     "execution_count": 63,
     "metadata": {},
     "output_type": "execute_result"
    }
   ],
   "source": [
    "tv[tv['Rotten Tomatoes']==100]"
   ]
  },
  {
   "cell_type": "code",
   "execution_count": 35,
   "id": "e8335941",
   "metadata": {},
   "outputs": [
    {
     "data": {
      "image/png": "[encoded data removed]",
      "text/plain": [
       "<Figure size 1152x576 with 4 Axes>"
      ]
     },
     "metadata": {
      "needs_background": "light"
     },
     "output_type": "display_data"
    }
   ],
   "source": [
    "# Create overall figure\n",
    "plt.figure(figsize = (16,8))\n",
    "plt.suptitle('Rotten Tomatoes Score Distribution with Mean Line', fontsize = 30)\n",
    "\n",
    "# Rotten Tomatoes score for every streamer (integer 1 to 100)\n",
    "netflix_scores = netflix['Rotten Tomatoes']\n",
    "disney_scores = disney['Rotten Tomatoes']\n",
    "hulu_scores = hulu['Rotten Tomatoes']\n",
    "prime_scores = prime['Rotten Tomatoes']\n",
    "\n",
    "#Netflix plot\n",
    "plt.subplot(2,2,1)\n",
    "plt.hist(netflix_scores, color = '#ef3339', bins = 20)\n",
    "plt.axvline(netflix_scores.mean(), color = 'black', linewidth = 3)\n",
    "plt.title('Netflix', fontsize = 18)\n",
    "\n",
    "#Disney plot\n",
    "plt.subplot(2,2,2)\n",
    "plt.hist(disney_scores, color = '#5079ba', bins = 20)\n",
    "plt.axvline(disney_scores.mean(), color = 'black', linewidth = 3)\n",
    "plt.title('Disney', fontsize = 18)\n",
    "\n",
    "#Hulu plot\n",
    "plt.subplot(2,2,3)\n",
    "plt.hist(hulu_scores, color = '#39ba5e', bins = 20)\n",
    "plt.axvline(hulu_scores.mean(), color = 'black', linewidth = 3)\n",
    "plt.title('Hulu', fontsize = 18)\n",
    "\n",
    "#Prime plot\n",
    "plt.subplot(2,2,4)\n",
    "plt.hist(prime_scores, color = '#7a5ea8', bins = 20)\n",
    "plt.axvline(prime_scores.mean(), color = 'black', linewidth = 3)\n",
    "plt.title('Prime Video', fontsize = 18)\n",
    "\n",
    "plt.show()"
   ]
  },
  {
   "cell_type": "markdown",
   "id": "03086e4b",
   "metadata": {},
   "source": [
    "We can see that Netflix, Disney+, and Hulu have an above average RT score, while Amazon is far below the average with only 37% critic approval."
   ]
  },
  {
   "cell_type": "markdown",
   "id": "74581e60",
   "metadata": {},
   "source": [
    "I found the large number of shows in the low ratings for Prime really interesting. There were 271 shows with a rating of 10/100, and another 135 rated 13/100."
   ]
  },
  {
   "cell_type": "code",
   "execution_count": 64,
   "id": "e5602ea7",
   "metadata": {},
   "outputs": [
    {
     "data": {
      "text/plain": [
       "37.76133260513381"
      ]
     },
     "execution_count": 64,
     "metadata": {},
     "output_type": "execute_result"
    }
   ],
   "source": [
    "prime['Rotten Tomatoes'].mean()"
   ]
  },
  {
   "cell_type": "code",
   "execution_count": 56,
   "id": "06a8e536",
   "metadata": {},
   "outputs": [
    {
     "data": {
      "text/plain": [
       "10    271\n",
       "13    135\n",
       "14     61\n",
       "38     49\n",
       "36     43\n",
       "     ... \n",
       "84      3\n",
       "22      2\n",
       "75      2\n",
       "93      2\n",
       "91      1\n",
       "Name: Rotten Tomatoes, Length: 80, dtype: int64"
      ]
     },
     "execution_count": 56,
     "metadata": {},
     "output_type": "execute_result"
    }
   ],
   "source": [
    "prime['Rotten Tomatoes'].value_counts()"
   ]
  },
  {
   "cell_type": "markdown",
   "id": "64ef13cf",
   "metadata": {},
   "source": [
    "When I previewed some of the low ratings, none of the titles jumped out as particularly well known shows, so it seems like Prime really does just have a lot of obscure titles that the critics did not receive very well. "
   ]
  },
  {
   "cell_type": "code",
   "execution_count": 55,
   "id": "a9eeb731",
   "metadata": {},
   "outputs": [
    {
     "data": {
      "text/html": [
       "<div>\n",
       "<style scoped>\n",
       "    .dataframe tbody tr th:only-of-type {\n",
       "        vertical-align: middle;\n",
       "    }\n",
       "\n",
       "    .dataframe tbody tr th {\n",
       "        vertical-align: top;\n",
       "    }\n",
       "\n",
       "    .dataframe thead th {\n",
       "        text-align: right;\n",
       "    }\n",
       "</style>\n",
       "<table border=\"1\" class=\"dataframe\">\n",
       "  <thead>\n",
       "    <tr style=\"text-align: right;\">\n",
       "      <th></th>\n",
       "      <th>ID</th>\n",
       "      <th>Title</th>\n",
       "      <th>Year</th>\n",
       "      <th>Age</th>\n",
       "      <th>IMDb</th>\n",
       "      <th>Rotten Tomatoes</th>\n",
       "      <th>Netflix</th>\n",
       "      <th>Hulu</th>\n",
       "      <th>Prime Video</th>\n",
       "      <th>Disney+</th>\n",
       "      <th>Type</th>\n",
       "    </tr>\n",
       "  </thead>\n",
       "  <tbody>\n",
       "    <tr>\n",
       "      <th>4786</th>\n",
       "      <td>5105</td>\n",
       "      <td>The Hunters Club</td>\n",
       "      <td>2014</td>\n",
       "      <td>NaN</td>\n",
       "      <td>NaN</td>\n",
       "      <td>10</td>\n",
       "      <td>0</td>\n",
       "      <td>0</td>\n",
       "      <td>1</td>\n",
       "      <td>0</td>\n",
       "      <td>1</td>\n",
       "    </tr>\n",
       "    <tr>\n",
       "      <th>4787</th>\n",
       "      <td>5106</td>\n",
       "      <td>Travel the Road</td>\n",
       "      <td>2016</td>\n",
       "      <td>NaN</td>\n",
       "      <td>NaN</td>\n",
       "      <td>10</td>\n",
       "      <td>0</td>\n",
       "      <td>0</td>\n",
       "      <td>1</td>\n",
       "      <td>0</td>\n",
       "      <td>1</td>\n",
       "    </tr>\n",
       "    <tr>\n",
       "      <th>4788</th>\n",
       "      <td>5107</td>\n",
       "      <td>Pinkfong! Bedtime Lullabies</td>\n",
       "      <td>2015</td>\n",
       "      <td>NaN</td>\n",
       "      <td>NaN</td>\n",
       "      <td>10</td>\n",
       "      <td>0</td>\n",
       "      <td>0</td>\n",
       "      <td>1</td>\n",
       "      <td>0</td>\n",
       "      <td>1</td>\n",
       "    </tr>\n",
       "    <tr>\n",
       "      <th>4789</th>\n",
       "      <td>5108</td>\n",
       "      <td>The Union Series</td>\n",
       "      <td>2016</td>\n",
       "      <td>NaN</td>\n",
       "      <td>NaN</td>\n",
       "      <td>10</td>\n",
       "      <td>0</td>\n",
       "      <td>0</td>\n",
       "      <td>1</td>\n",
       "      <td>0</td>\n",
       "      <td>1</td>\n",
       "    </tr>\n",
       "    <tr>\n",
       "      <th>4790</th>\n",
       "      <td>5109</td>\n",
       "      <td>Another Dirty Room</td>\n",
       "      <td>2016</td>\n",
       "      <td>NaN</td>\n",
       "      <td>NaN</td>\n",
       "      <td>10</td>\n",
       "      <td>0</td>\n",
       "      <td>0</td>\n",
       "      <td>1</td>\n",
       "      <td>0</td>\n",
       "      <td>1</td>\n",
       "    </tr>\n",
       "    <tr>\n",
       "      <th>...</th>\n",
       "      <td>...</td>\n",
       "      <td>...</td>\n",
       "      <td>...</td>\n",
       "      <td>...</td>\n",
       "      <td>...</td>\n",
       "      <td>...</td>\n",
       "      <td>...</td>\n",
       "      <td>...</td>\n",
       "      <td>...</td>\n",
       "      <td>...</td>\n",
       "      <td>...</td>\n",
       "    </tr>\n",
       "    <tr>\n",
       "      <th>5052</th>\n",
       "      <td>5371</td>\n",
       "      <td>Breakfast with Bevan</td>\n",
       "      <td>2013</td>\n",
       "      <td>NaN</td>\n",
       "      <td>NaN</td>\n",
       "      <td>10</td>\n",
       "      <td>0</td>\n",
       "      <td>0</td>\n",
       "      <td>1</td>\n",
       "      <td>0</td>\n",
       "      <td>1</td>\n",
       "    </tr>\n",
       "    <tr>\n",
       "      <th>5053</th>\n",
       "      <td>5372</td>\n",
       "      <td>Gas, Grub, and Ghosts</td>\n",
       "      <td>2017</td>\n",
       "      <td>NaN</td>\n",
       "      <td>NaN</td>\n",
       "      <td>10</td>\n",
       "      <td>0</td>\n",
       "      <td>0</td>\n",
       "      <td>1</td>\n",
       "      <td>0</td>\n",
       "      <td>1</td>\n",
       "    </tr>\n",
       "    <tr>\n",
       "      <th>5054</th>\n",
       "      <td>5373</td>\n",
       "      <td>Extreme Constructions</td>\n",
       "      <td>2017</td>\n",
       "      <td>NaN</td>\n",
       "      <td>NaN</td>\n",
       "      <td>10</td>\n",
       "      <td>0</td>\n",
       "      <td>0</td>\n",
       "      <td>1</td>\n",
       "      <td>0</td>\n",
       "      <td>1</td>\n",
       "    </tr>\n",
       "    <tr>\n",
       "      <th>5055</th>\n",
       "      <td>5374</td>\n",
       "      <td>Nature's Treasure Islands</td>\n",
       "      <td>2014</td>\n",
       "      <td>NaN</td>\n",
       "      <td>NaN</td>\n",
       "      <td>10</td>\n",
       "      <td>0</td>\n",
       "      <td>0</td>\n",
       "      <td>1</td>\n",
       "      <td>0</td>\n",
       "      <td>1</td>\n",
       "    </tr>\n",
       "    <tr>\n",
       "      <th>5056</th>\n",
       "      <td>5375</td>\n",
       "      <td>Lego Set Builds Chima - Artifex</td>\n",
       "      <td>2017</td>\n",
       "      <td>NaN</td>\n",
       "      <td>NaN</td>\n",
       "      <td>10</td>\n",
       "      <td>0</td>\n",
       "      <td>0</td>\n",
       "      <td>1</td>\n",
       "      <td>0</td>\n",
       "      <td>1</td>\n",
       "    </tr>\n",
       "  </tbody>\n",
       "</table>\n",
       "<p>271 rows × 11 columns</p>\n",
       "</div>"
      ],
      "text/plain": [
       "        ID                            Title  Year  Age  IMDb  Rotten Tomatoes  \\\n",
       "4786  5105                 The Hunters Club  2014  NaN   NaN               10   \n",
       "4787  5106                  Travel the Road  2016  NaN   NaN               10   \n",
       "4788  5107      Pinkfong! Bedtime Lullabies  2015  NaN   NaN               10   \n",
       "4789  5108                 The Union Series  2016  NaN   NaN               10   \n",
       "4790  5109               Another Dirty Room  2016  NaN   NaN               10   \n",
       "...    ...                              ...   ...  ...   ...              ...   \n",
       "5052  5371             Breakfast with Bevan  2013  NaN   NaN               10   \n",
       "5053  5372            Gas, Grub, and Ghosts  2017  NaN   NaN               10   \n",
       "5054  5373            Extreme Constructions  2017  NaN   NaN               10   \n",
       "5055  5374        Nature's Treasure Islands  2014  NaN   NaN               10   \n",
       "5056  5375  Lego Set Builds Chima - Artifex  2017  NaN   NaN               10   \n",
       "\n",
       "      Netflix  Hulu  Prime Video  Disney+  Type  \n",
       "4786        0     0            1        0     1  \n",
       "4787        0     0            1        0     1  \n",
       "4788        0     0            1        0     1  \n",
       "4789        0     0            1        0     1  \n",
       "4790        0     0            1        0     1  \n",
       "...       ...   ...          ...      ...   ...  \n",
       "5052        0     0            1        0     1  \n",
       "5053        0     0            1        0     1  \n",
       "5054        0     0            1        0     1  \n",
       "5055        0     0            1        0     1  \n",
       "5056        0     0            1        0     1  \n",
       "\n",
       "[271 rows x 11 columns]"
      ]
     },
     "execution_count": 55,
     "metadata": {},
     "output_type": "execute_result"
    }
   ],
   "source": [
    "prime[prime['Rotten Tomatoes'] == 10]"
   ]
  },
  {
   "cell_type": "markdown",
   "id": "9913f99a",
   "metadata": {},
   "source": [
    "[Back to Top](#top)\n",
    "<a class=\"anchor\" id=\"conclusion\"></a>\n",
    "## Conclusion"
   ]
  },
  {
   "cell_type": "markdown",
   "id": "33f758e0",
   "metadata": {},
   "source": [
    "The \"Streaming Wars\" have only intensifiedas more and more consumers do away with traditional cable services and as the COVID-19 Pandemic has driven households to look for entertainment from the comfort of their own homes.\n",
    "\n",
    "Streamers are spending billions to try to outdo each other. In 2022, Hulu made history by being the first streaming service to exlucusvely release the Academy Award winner for Best Picture with CODA. Disney+ and HBO Max continue to pit their mammoth franchises of Marvel and D.C. superheroes against each other, and Disney+ has spent the last 3 years creating a shared universe of films and TV shows inside their Marvel and Star Wars franchises. \n",
    "\n",
    "September 2022 saw the release of the most expensive streaming show ever made as Prime Video releases the Rings of Power show based off J.R.R. Tolkien's Lord of the Rings books, which cost over $500 million, and pits itself against HBO Max's Game of Thrones spinoff House of the Dragon in the battle to become the next big watercooler franchise show on television."
   ]
  }
 ],
 "metadata": {
  "kernelspec": {
   "display_name": "Python 3 (ipykernel)",
   "language": "python",
   "name": "python3"
  },
  "language_info": {
   "codemirror_mode": {
    "name": "ipython",
    "version": 3
   },
   "file_extension": ".py",
   "mimetype": "text/x-python",
   "name": "python",
   "nbconvert_exporter": "python",
   "pygments_lexer": "ipython3",
   "version": "3.9.12"
  }
 },
 "nbformat": 4,
 "nbformat_minor": 5
}
